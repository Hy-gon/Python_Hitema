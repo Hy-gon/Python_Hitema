{
 "cells": [
  {
   "cell_type": "markdown",
   "metadata": {},
   "source": [
    "# Exercice DataSet & Algo modèle linéaire"
   ]
  },
  {
   "cell_type": "markdown",
   "metadata": {},
   "source": [
    "## Algo avec 1 X et 1 Y"
   ]
  },
  {
   "cell_type": "markdown",
   "metadata": {},
   "source": [
    "<strong> Problématique : -> Plus un pokémon a de points de vie , plus son nombre de points d'attaques augmente ?"
   ]
  },
  {
   "cell_type": "markdown",
   "metadata": {},
   "source": [
    "<strong> <p style=\"font-size: 150%\"> DataCleaning & Importation CSV"
   ]
  },
  {
   "cell_type": "code",
   "execution_count": 790,
   "metadata": {},
   "outputs": [],
   "source": [
    "import numpy as np\n",
    "import math \n",
    "import matplotlib.pyplot as plt\n",
    "import pandas as pd\n",
    "import sklearn as sk"
   ]
  },
  {
   "cell_type": "code",
   "execution_count": 791,
   "metadata": {},
   "outputs": [],
   "source": [
    "dataCSV = \"pokemon.csv\"\n",
    "\n",
    "data = pd.read_csv(dataCSV, usecols = ['id', 'Name', 'HP', 'Attack'])"
   ]
  },
  {
   "cell_type": "code",
   "execution_count": 792,
   "metadata": {},
   "outputs": [
    {
     "data": {
      "text/plain": [
       "id        False\n",
       "Name      False\n",
       "HP        False\n",
       "Attack    False\n",
       "dtype: bool"
      ]
     },
     "execution_count": 792,
     "metadata": {},
     "output_type": "execute_result"
    }
   ],
   "source": [
    "data.isnull().all()"
   ]
  },
  {
   "cell_type": "code",
   "execution_count": 793,
   "metadata": {},
   "outputs": [
    {
     "data": {
      "text/plain": [
       "id         int64\n",
       "Name      object\n",
       "HP         int64\n",
       "Attack     int64\n",
       "dtype: object"
      ]
     },
     "execution_count": 793,
     "metadata": {},
     "output_type": "execute_result"
    }
   ],
   "source": [
    "data.dtypes"
   ]
  },
  {
   "cell_type": "code",
   "execution_count": 794,
   "metadata": {},
   "outputs": [
    {
     "data": {
      "text/html": [
       "<div>\n",
       "<style scoped>\n",
       "    .dataframe tbody tr th:only-of-type {\n",
       "        vertical-align: middle;\n",
       "    }\n",
       "\n",
       "    .dataframe tbody tr th {\n",
       "        vertical-align: top;\n",
       "    }\n",
       "\n",
       "    .dataframe thead th {\n",
       "        text-align: right;\n",
       "    }\n",
       "</style>\n",
       "<table border=\"1\" class=\"dataframe\">\n",
       "  <thead>\n",
       "    <tr style=\"text-align: right;\">\n",
       "      <th></th>\n",
       "      <th>id</th>\n",
       "      <th>Name</th>\n",
       "      <th>HP</th>\n",
       "      <th>Attack</th>\n",
       "    </tr>\n",
       "  </thead>\n",
       "  <tbody>\n",
       "    <tr>\n",
       "      <th>0</th>\n",
       "      <td>1</td>\n",
       "      <td>Bulbasaur</td>\n",
       "      <td>45</td>\n",
       "      <td>49</td>\n",
       "    </tr>\n",
       "    <tr>\n",
       "      <th>1</th>\n",
       "      <td>2</td>\n",
       "      <td>Ivysaur</td>\n",
       "      <td>60</td>\n",
       "      <td>62</td>\n",
       "    </tr>\n",
       "    <tr>\n",
       "      <th>2</th>\n",
       "      <td>3</td>\n",
       "      <td>Venusaur</td>\n",
       "      <td>80</td>\n",
       "      <td>82</td>\n",
       "    </tr>\n",
       "    <tr>\n",
       "      <th>3</th>\n",
       "      <td>4</td>\n",
       "      <td>Charmander</td>\n",
       "      <td>39</td>\n",
       "      <td>52</td>\n",
       "    </tr>\n",
       "    <tr>\n",
       "      <th>4</th>\n",
       "      <td>5</td>\n",
       "      <td>Charmeleon</td>\n",
       "      <td>58</td>\n",
       "      <td>64</td>\n",
       "    </tr>\n",
       "    <tr>\n",
       "      <th>5</th>\n",
       "      <td>6</td>\n",
       "      <td>Charizard</td>\n",
       "      <td>78</td>\n",
       "      <td>84</td>\n",
       "    </tr>\n",
       "    <tr>\n",
       "      <th>6</th>\n",
       "      <td>7</td>\n",
       "      <td>Squirtle</td>\n",
       "      <td>44</td>\n",
       "      <td>48</td>\n",
       "    </tr>\n",
       "    <tr>\n",
       "      <th>7</th>\n",
       "      <td>8</td>\n",
       "      <td>Wartortle</td>\n",
       "      <td>59</td>\n",
       "      <td>63</td>\n",
       "    </tr>\n",
       "    <tr>\n",
       "      <th>8</th>\n",
       "      <td>9</td>\n",
       "      <td>Blastoise</td>\n",
       "      <td>79</td>\n",
       "      <td>83</td>\n",
       "    </tr>\n",
       "    <tr>\n",
       "      <th>9</th>\n",
       "      <td>10</td>\n",
       "      <td>Caterpie</td>\n",
       "      <td>45</td>\n",
       "      <td>30</td>\n",
       "    </tr>\n",
       "  </tbody>\n",
       "</table>\n",
       "</div>"
      ],
      "text/plain": [
       "   id        Name  HP  Attack\n",
       "0   1   Bulbasaur  45      49\n",
       "1   2     Ivysaur  60      62\n",
       "2   3    Venusaur  80      82\n",
       "3   4  Charmander  39      52\n",
       "4   5  Charmeleon  58      64\n",
       "5   6   Charizard  78      84\n",
       "6   7    Squirtle  44      48\n",
       "7   8   Wartortle  59      63\n",
       "8   9   Blastoise  79      83\n",
       "9  10    Caterpie  45      30"
      ]
     },
     "execution_count": 794,
     "metadata": {},
     "output_type": "execute_result"
    }
   ],
   "source": [
    "data.head(10)"
   ]
  },
  {
   "cell_type": "code",
   "execution_count": 795,
   "metadata": {},
   "outputs": [
    {
     "data": {
      "text/plain": [
       "(1061, 4)"
      ]
     },
     "execution_count": 795,
     "metadata": {},
     "output_type": "execute_result"
    }
   ],
   "source": [
    "data.shape"
   ]
  },
  {
   "cell_type": "markdown",
   "metadata": {},
   "source": [
    "<strong> <p style=\"font-size: 150%\"> CREATE X & Y"
   ]
  },
  {
   "cell_type": "code",
   "execution_count": 796,
   "metadata": {},
   "outputs": [],
   "source": [
    "#X := HP Pokemon\n",
    "#Y := Attack Pokemon\n",
    "\n",
    "#Create Var X & Y\n",
    "\n",
    "X = data[['HP']]\n",
    "Y = data[['Attack']]"
   ]
  },
  {
   "cell_type": "code",
   "execution_count": 842,
   "metadata": {},
   "outputs": [
    {
     "data": {
      "text/plain": [
       "<matplotlib.collections.PathCollection at 0x7f906c1ce3d0>"
      ]
     },
     "execution_count": 842,
     "metadata": {},
     "output_type": "execute_result"
    },
    {
     "data": {
      "image/png": "[encoded data removed]",
      "text/plain": [
       "<Figure size 1080x720 with 1 Axes>"
      ]
     },
     "metadata": {
      "needs_background": "light"
     },
     "output_type": "display_data"
    }
   ],
   "source": [
    "plt.figure(figsize=(15, 10))\n",
    "\n",
    "plt.title(\"Analyse de l'attaque sur les HP\")\n",
    "plt.xlabel(\"HP $\\hat{y}_i$\")\n",
    "plt.ylabel(\"Attack $|t_i^*|$\")\n",
    "\n",
    "plt.scatter(X, Y)"
   ]
  },
  {
   "cell_type": "markdown",
   "metadata": {},
   "source": [
    "<strong> <p style=\"font-size: 150%\"> CREATE SPLIT WITH SKLEARN\n"
   ]
  },
  {
   "cell_type": "code",
   "execution_count": 901,
   "metadata": {},
   "outputs": [],
   "source": [
    "from sklearn.model_selection import train_test_split\n",
    "\n",
    "X_train, X_test, Y_train, Y_test = train_test_split(X, Y, test_size = 0.3)"
   ]
  },
  {
   "cell_type": "code",
   "execution_count": 902,
   "metadata": {},
   "outputs": [
    {
     "data": {
      "text/html": [
       "<div>\n",
       "<style scoped>\n",
       "    .dataframe tbody tr th:only-of-type {\n",
       "        vertical-align: middle;\n",
       "    }\n",
       "\n",
       "    .dataframe tbody tr th {\n",
       "        vertical-align: top;\n",
       "    }\n",
       "\n",
       "    .dataframe thead th {\n",
       "        text-align: right;\n",
       "    }\n",
       "</style>\n",
       "<table border=\"1\" class=\"dataframe\">\n",
       "  <thead>\n",
       "    <tr style=\"text-align: right;\">\n",
       "      <th></th>\n",
       "      <th>HP</th>\n",
       "    </tr>\n",
       "  </thead>\n",
       "  <tbody>\n",
       "    <tr>\n",
       "      <th>695</th>\n",
       "      <td>58</td>\n",
       "    </tr>\n",
       "    <tr>\n",
       "      <th>171</th>\n",
       "      <td>20</td>\n",
       "    </tr>\n",
       "    <tr>\n",
       "      <th>905</th>\n",
       "      <td>60</td>\n",
       "    </tr>\n",
       "    <tr>\n",
       "      <th>482</th>\n",
       "      <td>100</td>\n",
       "    </tr>\n",
       "    <tr>\n",
       "      <th>488</th>\n",
       "      <td>80</td>\n",
       "    </tr>\n",
       "  </tbody>\n",
       "</table>\n",
       "</div>"
      ],
      "text/plain": [
       "      HP\n",
       "695   58\n",
       "171   20\n",
       "905   60\n",
       "482  100\n",
       "488   80"
      ]
     },
     "execution_count": 902,
     "metadata": {},
     "output_type": "execute_result"
    }
   ],
   "source": [
    "X_train.head(5)"
   ]
  },
  {
   "cell_type": "code",
   "execution_count": 903,
   "metadata": {},
   "outputs": [
    {
     "data": {
      "text/html": [
       "<div>\n",
       "<style scoped>\n",
       "    .dataframe tbody tr th:only-of-type {\n",
       "        vertical-align: middle;\n",
       "    }\n",
       "\n",
       "    .dataframe tbody tr th {\n",
       "        vertical-align: top;\n",
       "    }\n",
       "\n",
       "    .dataframe thead th {\n",
       "        text-align: right;\n",
       "    }\n",
       "</style>\n",
       "<table border=\"1\" class=\"dataframe\">\n",
       "  <thead>\n",
       "    <tr style=\"text-align: right;\">\n",
       "      <th></th>\n",
       "      <th>Attack</th>\n",
       "    </tr>\n",
       "  </thead>\n",
       "  <tbody>\n",
       "    <tr>\n",
       "      <th>695</th>\n",
       "      <td>89</td>\n",
       "    </tr>\n",
       "    <tr>\n",
       "      <th>171</th>\n",
       "      <td>40</td>\n",
       "    </tr>\n",
       "    <tr>\n",
       "      <th>905</th>\n",
       "      <td>79</td>\n",
       "    </tr>\n",
       "    <tr>\n",
       "      <th>482</th>\n",
       "      <td>120</td>\n",
       "    </tr>\n",
       "    <tr>\n",
       "      <th>488</th>\n",
       "      <td>80</td>\n",
       "    </tr>\n",
       "  </tbody>\n",
       "</table>\n",
       "</div>"
      ],
      "text/plain": [
       "     Attack\n",
       "695      89\n",
       "171      40\n",
       "905      79\n",
       "482     120\n",
       "488      80"
      ]
     },
     "execution_count": 903,
     "metadata": {},
     "output_type": "execute_result"
    }
   ],
   "source": [
    "Y_train.head(5)"
   ]
  },
  {
   "cell_type": "markdown",
   "metadata": {},
   "source": [
    "<strong> <p style=\"font-size: 150%\"> CREATE LinearRegression\n"
   ]
  },
  {
   "cell_type": "code",
   "execution_count": 904,
   "metadata": {},
   "outputs": [],
   "source": [
    "from sklearn.linear_model import LinearRegression\n",
    "from sklearn import datasets, linear_model\n",
    "\n",
    "clf = linear_model.LinearRegression(copy_X=True, fit_intercept=True, n_jobs=None,\n",
    "         normalize=False)"
   ]
  },
  {
   "cell_type": "code",
   "execution_count": 905,
   "metadata": {},
   "outputs": [
    {
     "data": {
      "text/plain": [
       "LinearRegression()"
      ]
     },
     "execution_count": 905,
     "metadata": {},
     "output_type": "execute_result"
    }
   ],
   "source": [
    "clf.fit(X_train, Y_train)"
   ]
  },
  {
   "cell_type": "markdown",
   "metadata": {},
   "source": [
    "<strong> <p style=\"font-size: 150%\"> Print Coef\n"
   ]
  },
  {
   "cell_type": "code",
   "execution_count": 906,
   "metadata": {},
   "outputs": [
    {
     "name": "stdout",
     "output_type": "stream",
     "text": [
      "Coef :  [[0.48359517]]\n",
      "Intercept :  [45.39688205]\n"
     ]
    }
   ],
   "source": [
    "print('Coef : ', clf.coef_)\n",
    "print('Intercept : ', clf.intercept_)"
   ]
  },
  {
   "cell_type": "code",
   "execution_count": 907,
   "metadata": {},
   "outputs": [
    {
     "data": {
      "text/plain": [
       "<matplotlib.collections.PathCollection at 0x7f906bed5a30>"
      ]
     },
     "execution_count": 907,
     "metadata": {},
     "output_type": "execute_result"
    },
    {
     "data": {
      "image/png": "[encoded data removed]",
      "text/plain": [
       "<Figure size 1080x720 with 1 Axes>"
      ]
     },
     "metadata": {
      "needs_background": "light"
     },
     "output_type": "display_data"
    }
   ],
   "source": [
    "plt.figure(figsize=(15, 10))\n",
    "\n",
    "plt.title(\"Analyse de l'attaque sur les HP\")\n",
    "plt.xlabel(\"HP $\\hat{y}_i$\")\n",
    "plt.ylabel(\"Attack $|t_i^*|$\")\n",
    "\n",
    "plt.scatter(X_test, Y_test)"
   ]
  },
  {
   "cell_type": "markdown",
   "metadata": {},
   "source": [
    "<strong> <p style=\"font-size: 150%\"> Prédiction sur X & Squared_error\n"
   ]
  },
  {
   "cell_type": "code",
   "execution_count": 908,
   "metadata": {},
   "outputs": [],
   "source": [
    "from sklearn.metrics import mean_squared_error, r2_score"
   ]
  },
  {
   "cell_type": "code",
   "execution_count": 909,
   "metadata": {},
   "outputs": [],
   "source": [
    "Y_prediction = clf.predict(X_test)"
   ]
  },
  {
   "cell_type": "code",
   "execution_count": 910,
   "metadata": {},
   "outputs": [
    {
     "data": {
      "text/plain": [
       "array([[ 62.32271283],\n",
       "       [ 74.41259197],\n",
       "       [ 86.5024711 ],\n",
       "       [ 84.08449527],\n",
       "       [ 80.21573395],\n",
       "       [ 62.32271283],\n",
       "       [ 79.24854362],\n",
       "       [ 81.18292428],\n",
       "       [ 59.90473701],\n",
       "       [108.26425354],\n",
       "       [ 81.66651945],\n",
       "       [ 70.06023548],\n",
       "       [ 77.31416296],\n",
       "       [ 81.66651945],\n",
       "       [103.42830188],\n",
       "       [ 63.28990317],\n",
       "       [ 69.57664031],\n",
       "       [ 76.83056779],\n",
       "       [ 83.11730494],\n",
       "       [ 64.74068866],\n",
       "       [ 71.99461614],\n",
       "       [ 69.57664031],\n",
       "       [ 79.24854362],\n",
       "       [ 88.92044693],\n",
       "       [ 67.15866449],\n",
       "       [ 76.34697263],\n",
       "       [101.01032606],\n",
       "       [ 80.69932912],\n",
       "       [ 74.41259197],\n",
       "       [ 79.73213878],\n",
       "       [ 83.11730494],\n",
       "       [ 71.99461614],\n",
       "       [ 92.30561308],\n",
       "       [ 79.24854362],\n",
       "       [ 69.57664031],\n",
       "       [ 79.24854362],\n",
       "       [ 89.40404209],\n",
       "       [ 78.28135329],\n",
       "       [ 74.41259197],\n",
       "       [ 91.33842275],\n",
       "       [ 67.15866449],\n",
       "       [ 79.24854362],\n",
       "       [ 69.57664031],\n",
       "       [ 85.0516856 ],\n",
       "       [ 67.15866449],\n",
       "       [ 93.75639858],\n",
       "       [ 74.41259197],\n",
       "       [ 78.28135329],\n",
       "       [ 74.41259197],\n",
       "       [ 93.75639858],\n",
       "       [ 74.41259197],\n",
       "       [ 93.75639858],\n",
       "       [ 76.83056779],\n",
       "       [ 74.41259197],\n",
       "       [ 79.24854362],\n",
       "       [ 98.59235023],\n",
       "       [ 64.74068866],\n",
       "       [ 74.41259197],\n",
       "       [ 96.65796957],\n",
       "       [ 64.74068866],\n",
       "       [ 81.66651945],\n",
       "       [ 89.40404209],\n",
       "       [ 93.27280341],\n",
       "       [ 76.83056779],\n",
       "       [ 74.41259197],\n",
       "       [ 78.28135329],\n",
       "       [ 82.15011461],\n",
       "       [ 59.90473701],\n",
       "       [ 69.57664031],\n",
       "       [ 76.83056779],\n",
       "       [ 91.33842275],\n",
       "       [ 69.57664031],\n",
       "       [ 91.33842275],\n",
       "       [ 89.88763726],\n",
       "       [ 65.70787899],\n",
       "       [ 74.89618713],\n",
       "       [ 64.74068866],\n",
       "       [ 84.08449527],\n",
       "       [ 84.08449527],\n",
       "       [ 73.9289968 ],\n",
       "       [ 91.33842275],\n",
       "       [105.84627771],\n",
       "       [ 69.09304515],\n",
       "       [ 91.33842275],\n",
       "       [ 63.77349833],\n",
       "       [ 84.08449527],\n",
       "       [ 64.74068866],\n",
       "       [ 66.19147416],\n",
       "       [ 59.90473701],\n",
       "       [ 84.08449527],\n",
       "       [ 57.48676118],\n",
       "       [ 79.24854362],\n",
       "       [ 69.57664031],\n",
       "       [ 86.5024711 ],\n",
       "       [ 69.57664031],\n",
       "       [108.26425354],\n",
       "       [ 93.75639858],\n",
       "       [ 93.75639858],\n",
       "       [ 85.53528077],\n",
       "       [ 67.15866449],\n",
       "       [ 69.57664031],\n",
       "       [ 77.79775812],\n",
       "       [ 76.83056779],\n",
       "       [ 84.08449527],\n",
       "       [103.42830188],\n",
       "       [ 67.15866449],\n",
       "       [ 67.15866449],\n",
       "       [ 86.5024711 ],\n",
       "       [ 91.33842275],\n",
       "       [ 71.51102098],\n",
       "       [ 88.92044693],\n",
       "       [ 74.41259197],\n",
       "       [ 84.08449527],\n",
       "       [ 74.41259197],\n",
       "       [ 98.59235023],\n",
       "       [ 76.83056779],\n",
       "       [ 68.12585482],\n",
       "       [ 59.90473701],\n",
       "       [ 74.41259197],\n",
       "       [ 69.09304515],\n",
       "       [ 71.99461614],\n",
       "       [ 81.66651945],\n",
       "       [ 88.92044693],\n",
       "       [ 81.66651945],\n",
       "       [ 79.24854362],\n",
       "       [ 88.92044693],\n",
       "       [106.32987288],\n",
       "       [ 93.75639858],\n",
       "       [103.42830188],\n",
       "       [ 64.74068866],\n",
       "       [ 84.08449527],\n",
       "       [ 68.60944998],\n",
       "       [ 74.89618713],\n",
       "       [ 83.11730494],\n",
       "       [ 71.99461614],\n",
       "       [ 83.60090011],\n",
       "       [ 72.96180647],\n",
       "       [ 78.76494845],\n",
       "       [ 75.3797823 ],\n",
       "       [ 81.66651945],\n",
       "       [ 74.41259197],\n",
       "       [ 84.08449527],\n",
       "       [ 91.33842275],\n",
       "       [ 99.0759454 ],\n",
       "       [ 84.08449527],\n",
       "       [ 98.59235023],\n",
       "       [ 71.99461614],\n",
       "       [ 76.83056779],\n",
       "       [ 59.90473701],\n",
       "       [ 79.24854362],\n",
       "       [ 96.1743744 ],\n",
       "       [ 74.41259197],\n",
       "       [ 76.83056779],\n",
       "       [ 79.24854362],\n",
       "       [ 76.34697263],\n",
       "       [ 81.66651945],\n",
       "       [ 68.60944998],\n",
       "       [103.42830188],\n",
       "       [ 91.33842275],\n",
       "       [ 73.9289968 ],\n",
       "       [ 71.99461614],\n",
       "       [ 62.32271283],\n",
       "       [ 71.99461614],\n",
       "       [ 84.08449527],\n",
       "       [ 71.99461614],\n",
       "       [ 79.24854362],\n",
       "       [ 67.15866449],\n",
       "       [ 84.08449527],\n",
       "       [ 74.41259197],\n",
       "       [ 80.21573395],\n",
       "       [ 84.08449527],\n",
       "       [ 92.30561308],\n",
       "       [ 67.15866449],\n",
       "       [ 86.5024711 ],\n",
       "       [ 81.66651945],\n",
       "       [115.03458585],\n",
       "       [ 69.57664031],\n",
       "       [ 81.66651945],\n",
       "       [ 73.44540164],\n",
       "       [111.64941969],\n",
       "       [ 76.83056779],\n",
       "       [ 86.01887593],\n",
       "       [ 62.32271283],\n",
       "       [ 68.60944998],\n",
       "       [ 76.83056779],\n",
       "       [ 79.24854362],\n",
       "       [ 79.24854362],\n",
       "       [ 91.33842275],\n",
       "       [ 50.2328337 ],\n",
       "       [ 82.15011461],\n",
       "       [ 68.60944998],\n",
       "       [ 81.66651945],\n",
       "       [ 86.5024711 ],\n",
       "       [ 79.73213878],\n",
       "       [ 74.41259197],\n",
       "       [ 64.74068866],\n",
       "       [ 81.18292428],\n",
       "       [ 69.57664031],\n",
       "       [104.87908738],\n",
       "       [ 64.2570935 ],\n",
       "       [ 66.67506932],\n",
       "       [ 79.24854362],\n",
       "       [ 79.24854362],\n",
       "       [ 79.24854362],\n",
       "       [ 86.5024711 ],\n",
       "       [ 84.08449527],\n",
       "       [ 79.73213878],\n",
       "       [ 84.08449527],\n",
       "       [ 85.53528077],\n",
       "       [ 84.08449527],\n",
       "       [ 62.32271283],\n",
       "       [ 96.1743744 ],\n",
       "       [ 81.66651945],\n",
       "       [ 79.24854362],\n",
       "       [ 91.33842275],\n",
       "       [ 97.6251599 ],\n",
       "       [ 96.1743744 ],\n",
       "       [ 79.24854362],\n",
       "       [ 65.22428383],\n",
       "       [ 67.15866449],\n",
       "       [ 69.57664031],\n",
       "       [ 77.79775812],\n",
       "       [ 62.32271283],\n",
       "       [ 76.83056779],\n",
       "       [ 64.74068866],\n",
       "       [ 88.92044693],\n",
       "       [103.42830188],\n",
       "       [ 76.83056779],\n",
       "       [ 88.92044693],\n",
       "       [108.26425354],\n",
       "       [ 86.5024711 ],\n",
       "       [ 86.5024711 ],\n",
       "       [ 74.89618713],\n",
       "       [ 74.41259197],\n",
       "       [ 71.02742581],\n",
       "       [ 71.51102098],\n",
       "       [ 71.99461614],\n",
       "       [ 79.24854362],\n",
       "       [ 74.89618713],\n",
       "       [ 84.08449527],\n",
       "       [ 81.66651945],\n",
       "       [ 71.99461614],\n",
       "       [ 84.08449527],\n",
       "       [ 79.24854362],\n",
       "       [ 80.21573395],\n",
       "       [ 64.74068866],\n",
       "       [ 62.806308  ],\n",
       "       [ 84.08449527],\n",
       "       [ 67.15866449],\n",
       "       [ 77.31416296],\n",
       "       [ 81.66651945],\n",
       "       [ 74.41259197],\n",
       "       [ 69.57664031],\n",
       "       [ 59.90473701],\n",
       "       [ 80.69932912],\n",
       "       [ 69.57664031],\n",
       "       [ 79.24854362],\n",
       "       [ 79.24854362],\n",
       "       [ 59.90473701],\n",
       "       [ 69.57664031],\n",
       "       [ 83.11730494],\n",
       "       [ 81.66651945],\n",
       "       [ 93.75639858],\n",
       "       [ 98.59235023],\n",
       "       [ 64.74068866],\n",
       "       [ 63.77349833],\n",
       "       [ 68.60944998],\n",
       "       [ 79.24854362],\n",
       "       [ 84.08449527],\n",
       "       [ 95.69077924],\n",
       "       [ 84.08449527],\n",
       "       [ 81.18292428],\n",
       "       [ 84.08449527],\n",
       "       [ 69.57664031],\n",
       "       [ 76.83056779],\n",
       "       [ 88.92044693],\n",
       "       [ 78.28135329],\n",
       "       [ 81.66651945],\n",
       "       [ 64.74068866],\n",
       "       [ 63.77349833],\n",
       "       [ 62.32271283],\n",
       "       [ 93.75639858],\n",
       "       [ 64.74068866],\n",
       "       [ 74.41259197],\n",
       "       [ 84.08449527],\n",
       "       [ 83.11730494],\n",
       "       [ 71.99461614],\n",
       "       [ 78.76494845],\n",
       "       [ 84.08449527],\n",
       "       [ 76.83056779],\n",
       "       [ 81.66651945],\n",
       "       [ 85.0516856 ],\n",
       "       [ 89.40404209],\n",
       "       [105.84627771],\n",
       "       [ 79.24854362],\n",
       "       [ 80.21573395],\n",
       "       [ 76.83056779],\n",
       "       [ 79.24854362],\n",
       "       [ 67.15866449],\n",
       "       [ 74.41259197],\n",
       "       [ 71.99461614],\n",
       "       [ 93.75639858],\n",
       "       [ 74.41259197],\n",
       "       [103.42830188],\n",
       "       [ 88.43685176],\n",
       "       [ 74.41259197],\n",
       "       [ 97.6251599 ],\n",
       "       [ 64.74068866],\n",
       "       [ 74.41259197],\n",
       "       [ 67.15866449],\n",
       "       [ 79.24854362],\n",
       "       [ 64.74068866],\n",
       "       [ 68.60944998],\n",
       "       [ 74.41259197],\n",
       "       [ 84.08449527],\n",
       "       [ 91.33842275],\n",
       "       [ 81.66651945],\n",
       "       [ 67.15866449],\n",
       "       [ 76.83056779]])"
      ]
     },
     "execution_count": 910,
     "metadata": {},
     "output_type": "execute_result"
    }
   ],
   "source": [
    "Y_prediction"
   ]
  },
  {
   "cell_type": "code",
   "execution_count": 911,
   "metadata": {},
   "outputs": [
    {
     "name": "stdout",
     "output_type": "stream",
     "text": [
      "Mean Squared Error : 708.88\n"
     ]
    }
   ],
   "source": [
    "print('Mean Squared Error : %.2f' % mean_squared_error(Y_test, Y_prediction))"
   ]
  },
  {
   "cell_type": "code",
   "execution_count": 912,
   "metadata": {},
   "outputs": [
    {
     "name": "stdout",
     "output_type": "stream",
     "text": [
      "Coefficient of determination: 0.25\n"
     ]
    }
   ],
   "source": [
    "print('Coefficient of determination: %.2f' % r2_score(Y_test, Y_prediction))"
   ]
  },
  {
   "cell_type": "code",
   "execution_count": 840,
   "metadata": {},
   "outputs": [
    {
     "ename": "ValueError",
     "evalue": "Unable to coerce to DataFrame, shape must be (848, 1): given (213, 1)",
     "output_type": "error",
     "traceback": [
      "\u001b[0;31m---------------------------------------------------------------------------\u001b[0m",
      "\u001b[0;31mValueError\u001b[0m                                Traceback (most recent call last)",
      "\u001b[0;32m<ipython-input-840-a4cef8830ee0>\u001b[0m in \u001b[0;36m<module>\u001b[0;34m\u001b[0m\n\u001b[1;32m      1\u001b[0m \u001b[0;32mimport\u001b[0m \u001b[0mscipy\u001b[0m\u001b[0;34m\u001b[0m\u001b[0;34m\u001b[0m\u001b[0m\n\u001b[0;32m----> 2\u001b[0;31m \u001b[0mAttack_resi\u001b[0m \u001b[0;34m=\u001b[0m \u001b[0mnp\u001b[0m\u001b[0;34m.\u001b[0m\u001b[0mabs\u001b[0m\u001b[0;34m(\u001b[0m\u001b[0mY_train\u001b[0m \u001b[0;34m-\u001b[0m \u001b[0mY_prediction\u001b[0m\u001b[0;34m)\u001b[0m\u001b[0;34m\u001b[0m\u001b[0;34m\u001b[0m\u001b[0m\n\u001b[0m\u001b[1;32m      3\u001b[0m \u001b[0mH\u001b[0m \u001b[0;34m=\u001b[0m \u001b[0mnp\u001b[0m\u001b[0;34m.\u001b[0m\u001b[0mmatmul\u001b[0m\u001b[0;34m(\u001b[0m\u001b[0mX_train\u001b[0m\u001b[0;34m,\u001b[0m \u001b[0mnp\u001b[0m\u001b[0;34m.\u001b[0m\u001b[0mlinalg\u001b[0m\u001b[0;34m.\u001b[0m\u001b[0msolve\u001b[0m\u001b[0;34m(\u001b[0m\u001b[0mnp\u001b[0m\u001b[0;34m.\u001b[0m\u001b[0mdot\u001b[0m\u001b[0;34m(\u001b[0m\u001b[0mX_train\u001b[0m\u001b[0;34m.\u001b[0m\u001b[0mT\u001b[0m\u001b[0;34m,\u001b[0m \u001b[0mX_train\u001b[0m\u001b[0;34m)\u001b[0m\u001b[0;34m,\u001b[0m \u001b[0mX_train\u001b[0m\u001b[0;34m.\u001b[0m\u001b[0mT\u001b[0m\u001b[0;34m)\u001b[0m\u001b[0;34m)\u001b[0m\u001b[0;34m\u001b[0m\u001b[0;34m\u001b[0m\u001b[0m\n\u001b[1;32m      4\u001b[0m \u001b[0mstandart_attack\u001b[0m \u001b[0;34m=\u001b[0m \u001b[0mnp\u001b[0m\u001b[0;34m.\u001b[0m\u001b[0masarray\u001b[0m\u001b[0;34m(\u001b[0m\u001b[0;34m[\u001b[0m\u001b[0mAttack_resi\u001b[0m\u001b[0;34m[\u001b[0m\u001b[0mi\u001b[0m\u001b[0;34m]\u001b[0m \u001b[0;34m/\u001b[0m \u001b[0mnp\u001b[0m\u001b[0;34m.\u001b[0m\u001b[0msqrt\u001b[0m\u001b[0;34m(\u001b[0m\u001b[0mstd_hat\u001b[0m \u001b[0;34m*\u001b[0m \u001b[0;34m(\u001b[0m\u001b[0;36m1\u001b[0m \u001b[0;34m-\u001b[0m \u001b[0mH\u001b[0m\u001b[0;34m[\u001b[0m\u001b[0mi\u001b[0m\u001b[0;34m,\u001b[0m \u001b[0mi\u001b[0m\u001b[0;34m]\u001b[0m\u001b[0;34m)\u001b[0m\u001b[0;34m)\u001b[0m \u001b[0;32mfor\u001b[0m \u001b[0mi\u001b[0m \u001b[0;32min\u001b[0m \u001b[0mrange\u001b[0m\u001b[0;34m(\u001b[0m\u001b[0mlen\u001b[0m\u001b[0;34m(\u001b[0m\u001b[0mAttack_resi\u001b[0m\u001b[0;34m)\u001b[0m\u001b[0;34m)\u001b[0m\u001b[0;34m]\u001b[0m\u001b[0;34m)\u001b[0m\u001b[0;34m\u001b[0m\u001b[0;34m\u001b[0m\u001b[0m\n\u001b[1;32m      5\u001b[0m \u001b[0;34m\u001b[0m\u001b[0m\n",
      "\u001b[0;32m~/.local/lib/python3.8/site-packages/pandas/core/ops/__init__.py\u001b[0m in \u001b[0;36mf\u001b[0;34m(self, other, axis, level, fill_value)\u001b[0m\n\u001b[1;32m    645\u001b[0m         \u001b[0;31m# TODO: why are we passing flex=True instead of flex=not special?\u001b[0m\u001b[0;34m\u001b[0m\u001b[0;34m\u001b[0m\u001b[0;34m\u001b[0m\u001b[0m\n\u001b[1;32m    646\u001b[0m         \u001b[0;31m#  15 tests fail if we pass flex=not special instead\u001b[0m\u001b[0;34m\u001b[0m\u001b[0;34m\u001b[0m\u001b[0;34m\u001b[0m\u001b[0m\n\u001b[0;32m--> 647\u001b[0;31m         \u001b[0mself\u001b[0m\u001b[0;34m,\u001b[0m \u001b[0mother\u001b[0m \u001b[0;34m=\u001b[0m \u001b[0m_align_method_FRAME\u001b[0m\u001b[0;34m(\u001b[0m\u001b[0mself\u001b[0m\u001b[0;34m,\u001b[0m \u001b[0mother\u001b[0m\u001b[0;34m,\u001b[0m \u001b[0maxis\u001b[0m\u001b[0;34m,\u001b[0m \u001b[0mflex\u001b[0m\u001b[0;34m=\u001b[0m\u001b[0;32mTrue\u001b[0m\u001b[0;34m,\u001b[0m \u001b[0mlevel\u001b[0m\u001b[0;34m=\u001b[0m\u001b[0mlevel\u001b[0m\u001b[0;34m)\u001b[0m\u001b[0;34m\u001b[0m\u001b[0;34m\u001b[0m\u001b[0m\n\u001b[0m\u001b[1;32m    648\u001b[0m \u001b[0;34m\u001b[0m\u001b[0m\n\u001b[1;32m    649\u001b[0m         \u001b[0;32mif\u001b[0m \u001b[0misinstance\u001b[0m\u001b[0;34m(\u001b[0m\u001b[0mother\u001b[0m\u001b[0;34m,\u001b[0m \u001b[0mABCDataFrame\u001b[0m\u001b[0;34m)\u001b[0m\u001b[0;34m:\u001b[0m\u001b[0;34m\u001b[0m\u001b[0;34m\u001b[0m\u001b[0m\n",
      "\u001b[0;32m~/.local/lib/python3.8/site-packages/pandas/core/ops/__init__.py\u001b[0m in \u001b[0;36m_align_method_FRAME\u001b[0;34m(left, right, axis, flex, level)\u001b[0m\n\u001b[1;32m    488\u001b[0m \u001b[0;34m\u001b[0m\u001b[0m\n\u001b[1;32m    489\u001b[0m             \u001b[0;32melse\u001b[0m\u001b[0;34m:\u001b[0m\u001b[0;34m\u001b[0m\u001b[0;34m\u001b[0m\u001b[0m\n\u001b[0;32m--> 490\u001b[0;31m                 raise ValueError(\n\u001b[0m\u001b[1;32m    491\u001b[0m                     \u001b[0;34m\"Unable to coerce to DataFrame, shape \"\u001b[0m\u001b[0;34m\u001b[0m\u001b[0;34m\u001b[0m\u001b[0m\n\u001b[1;32m    492\u001b[0m                     \u001b[0;34mf\"must be {left.shape}: given {right.shape}\"\u001b[0m\u001b[0;34m\u001b[0m\u001b[0;34m\u001b[0m\u001b[0m\n",
      "\u001b[0;31mValueError\u001b[0m: Unable to coerce to DataFrame, shape must be (848, 1): given (213, 1)"
     ]
    }
   ],
   "source": [
    "import scipy\n",
    "Attack_resi = np.abs(Y_train - Y_prediction)\n",
    "H = np.matmul(X_train, np.linalg.solve(np.dot(X_train.T, X_train), X_train.T))\n",
    "standart_attack = np.asarray([Attack_resi[i] / np.sqrt(std_hat * (1 - H[i, i])) for i in range(len(Attack_resi))])\n",
    "\n",
    "plt.title(\"Analyse de l'attaque sur les HP\")\n",
    "plt.xlabel(\"HP $\\hat{y}_i$\")\n",
    "plt.ylabel(\"Attack $|t_i^*|$\")\n",
    "\n",
    "plt.scatter(y_prediction)"
   ]
  },
  {
   "cell_type": "code",
   "execution_count": null,
   "metadata": {},
   "outputs": [],
   "source": []
  }
 ],
 "metadata": {
  "kernelspec": {
   "display_name": "Python 3",
   "language": "python",
   "name": "python3"
  },
  "language_info": {
   "codemirror_mode": {
    "name": "ipython",
    "version": 3
   },
   "file_extension": ".py",
   "mimetype": "text/x-python",
   "name": "python",
   "nbconvert_exporter": "python",
   "pygments_lexer": "ipython3",
   "version": "3.8.5"
  },
  "toc": {
   "base_numbering": 1,
   "nav_menu": {},
   "number_sections": true,
   "sideBar": true,
   "skip_h1_title": false,
   "title_cell": "Table of Contents",
   "title_sidebar": "Contents",
   "toc_cell": false,
   "toc_position": {},
   "toc_section_display": true,
   "toc_window_display": false
  },
  "varInspector": {
   "cols": {
    "lenName": 16,
    "lenType": 16,
    "lenVar": 40
   },
   "kernels_config": {
    "python": {
     "delete_cmd_postfix": "",
     "delete_cmd_prefix": "del ",
     "library": "var_list.py",
     "varRefreshCmd": "print(var_dic_list())"
    },
    "r": {
     "delete_cmd_postfix": ") ",
     "delete_cmd_prefix": "rm(",
     "library": "var_list.r",
     "varRefreshCmd": "cat(var_dic_list()) "
    }
   },
   "types_to_exclude": [
    "module",
    "function",
    "builtin_function_or_method",
    "instance",
    "_Feature"
   ],
   "window_display": false
  }
 },
 "nbformat": 4,
 "nbformat_minor": 4
}
