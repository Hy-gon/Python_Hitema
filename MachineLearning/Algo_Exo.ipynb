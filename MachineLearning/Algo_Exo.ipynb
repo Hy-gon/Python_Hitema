{
 "cells": [
  {
   "cell_type": "markdown",
   "metadata": {},
   "source": [
    "# Exercice DataSet & Algo modèle linéaire"
   ]
  },
  {
   "cell_type": "markdown",
   "metadata": {},
   "source": [
    "## Algo avec 1 X et 1 Y"
   ]
  },
  {
   "cell_type": "markdown",
   "metadata": {},
   "source": [
    "<strong> Problématique : -> Plus un pokémon a de points de vie , plus son nombre de points d'attaques augmente ?"
   ]
  },
  {
   "cell_type": "markdown",
   "metadata": {},
   "source": [
    "<strong> <p style=\"font-size: 150%\"> DataCleaning & Importation CSV"
   ]
  },
  {
   "cell_type": "code",
   "execution_count": 1,
   "metadata": {},
   "outputs": [],
   "source": [
    "import numpy as np\n",
    "import math \n",
    "import matplotlib.pyplot as plt\n",
    "import pandas as pd\n",
    "import sklearn as sk"
   ]
  },
  {
   "cell_type": "code",
   "execution_count": 9,
   "metadata": {},
   "outputs": [],
   "source": [
    "dataCSV = \"pokemon.csv\"\n",
    "\n",
    "data = pd.read_csv(dataCSV, usecols = ['id', 'Name', 'HP', 'Attack'])"
   ]
  },
  {
   "cell_type": "code",
   "execution_count": 11,
   "metadata": {},
   "outputs": [
    {
     "data": {
      "text/plain": [
       "id        False\n",
       "Name      False\n",
       "HP        False\n",
       "Attack    False\n",
       "dtype: bool"
      ]
     },
     "execution_count": 11,
     "metadata": {},
     "output_type": "execute_result"
    }
   ],
   "source": [
    "data.isnull().all()"
   ]
  },
  {
   "cell_type": "code",
   "execution_count": 12,
   "metadata": {},
   "outputs": [
    {
     "data": {
      "text/plain": [
       "id         int64\n",
       "Name      object\n",
       "HP         int64\n",
       "Attack     int64\n",
       "dtype: object"
      ]
     },
     "execution_count": 12,
     "metadata": {},
     "output_type": "execute_result"
    }
   ],
   "source": [
    "data.dtypes"
   ]
  },
  {
   "cell_type": "code",
   "execution_count": 14,
   "metadata": {},
   "outputs": [
    {
     "data": {
      "text/html": [
       "<div>\n",
       "<style scoped>\n",
       "    .dataframe tbody tr th:only-of-type {\n",
       "        vertical-align: middle;\n",
       "    }\n",
       "\n",
       "    .dataframe tbody tr th {\n",
       "        vertical-align: top;\n",
       "    }\n",
       "\n",
       "    .dataframe thead th {\n",
       "        text-align: right;\n",
       "    }\n",
       "</style>\n",
       "<table border=\"1\" class=\"dataframe\">\n",
       "  <thead>\n",
       "    <tr style=\"text-align: right;\">\n",
       "      <th></th>\n",
       "      <th>id</th>\n",
       "      <th>Name</th>\n",
       "      <th>HP</th>\n",
       "      <th>Attack</th>\n",
       "    </tr>\n",
       "  </thead>\n",
       "  <tbody>\n",
       "    <tr>\n",
       "      <th>0</th>\n",
       "      <td>1</td>\n",
       "      <td>Bulbasaur</td>\n",
       "      <td>45</td>\n",
       "      <td>49</td>\n",
       "    </tr>\n",
       "    <tr>\n",
       "      <th>1</th>\n",
       "      <td>2</td>\n",
       "      <td>Ivysaur</td>\n",
       "      <td>60</td>\n",
       "      <td>62</td>\n",
       "    </tr>\n",
       "    <tr>\n",
       "      <th>2</th>\n",
       "      <td>3</td>\n",
       "      <td>Venusaur</td>\n",
       "      <td>80</td>\n",
       "      <td>82</td>\n",
       "    </tr>\n",
       "    <tr>\n",
       "      <th>3</th>\n",
       "      <td>4</td>\n",
       "      <td>Charmander</td>\n",
       "      <td>39</td>\n",
       "      <td>52</td>\n",
       "    </tr>\n",
       "    <tr>\n",
       "      <th>4</th>\n",
       "      <td>5</td>\n",
       "      <td>Charmeleon</td>\n",
       "      <td>58</td>\n",
       "      <td>64</td>\n",
       "    </tr>\n",
       "    <tr>\n",
       "      <th>5</th>\n",
       "      <td>6</td>\n",
       "      <td>Charizard</td>\n",
       "      <td>78</td>\n",
       "      <td>84</td>\n",
       "    </tr>\n",
       "    <tr>\n",
       "      <th>6</th>\n",
       "      <td>7</td>\n",
       "      <td>Squirtle</td>\n",
       "      <td>44</td>\n",
       "      <td>48</td>\n",
       "    </tr>\n",
       "    <tr>\n",
       "      <th>7</th>\n",
       "      <td>8</td>\n",
       "      <td>Wartortle</td>\n",
       "      <td>59</td>\n",
       "      <td>63</td>\n",
       "    </tr>\n",
       "    <tr>\n",
       "      <th>8</th>\n",
       "      <td>9</td>\n",
       "      <td>Blastoise</td>\n",
       "      <td>79</td>\n",
       "      <td>83</td>\n",
       "    </tr>\n",
       "    <tr>\n",
       "      <th>9</th>\n",
       "      <td>10</td>\n",
       "      <td>Caterpie</td>\n",
       "      <td>45</td>\n",
       "      <td>30</td>\n",
       "    </tr>\n",
       "  </tbody>\n",
       "</table>\n",
       "</div>"
      ],
      "text/plain": [
       "   id        Name  HP  Attack\n",
       "0   1   Bulbasaur  45      49\n",
       "1   2     Ivysaur  60      62\n",
       "2   3    Venusaur  80      82\n",
       "3   4  Charmander  39      52\n",
       "4   5  Charmeleon  58      64\n",
       "5   6   Charizard  78      84\n",
       "6   7    Squirtle  44      48\n",
       "7   8   Wartortle  59      63\n",
       "8   9   Blastoise  79      83\n",
       "9  10    Caterpie  45      30"
      ]
     },
     "execution_count": 14,
     "metadata": {},
     "output_type": "execute_result"
    }
   ],
   "source": [
    "data.head(10)"
   ]
  },
  {
   "cell_type": "code",
   "execution_count": 15,
   "metadata": {},
   "outputs": [
    {
     "data": {
      "text/plain": [
       "(1061, 4)"
      ]
     },
     "execution_count": 15,
     "metadata": {},
     "output_type": "execute_result"
    }
   ],
   "source": [
    "data.shape"
   ]
  },
  {
   "cell_type": "markdown",
   "metadata": {},
   "source": [
    "<strong> <p style=\"font-size: 150%\"> CREATE X & Y"
   ]
  },
  {
   "cell_type": "code",
   "execution_count": 57,
   "metadata": {},
   "outputs": [],
   "source": [
    "#X := HP Pokemon\n",
    "#Y := Attack Pokemon\n",
    "\n",
    "#Create Var X & Y\n",
    "\n",
    "X = data[['HP']]\n",
    "Y = data[['Attack']]"
   ]
  },
  {
   "cell_type": "markdown",
   "metadata": {},
   "source": [
    "<strong> <p style=\"font-size: 150%\"> CREATE SPLIT WITH SKLEARN\n"
   ]
  },
  {
   "cell_type": "code",
   "execution_count": 86,
   "metadata": {},
   "outputs": [],
   "source": [
    "from sklearn.model_selection import train_test_split\n",
    "\n",
    "X_train, X_test, Y_train, Y_test = train_test_split(X, Y, test_size = 0.2)"
   ]
  },
  {
   "cell_type": "code",
   "execution_count": 87,
   "metadata": {},
   "outputs": [
    {
     "data": {
      "text/html": [
       "<div>\n",
       "<style scoped>\n",
       "    .dataframe tbody tr th:only-of-type {\n",
       "        vertical-align: middle;\n",
       "    }\n",
       "\n",
       "    .dataframe tbody tr th {\n",
       "        vertical-align: top;\n",
       "    }\n",
       "\n",
       "    .dataframe thead th {\n",
       "        text-align: right;\n",
       "    }\n",
       "</style>\n",
       "<table border=\"1\" class=\"dataframe\">\n",
       "  <thead>\n",
       "    <tr style=\"text-align: right;\">\n",
       "      <th></th>\n",
       "      <th>HP</th>\n",
       "    </tr>\n",
       "  </thead>\n",
       "  <tbody>\n",
       "    <tr>\n",
       "      <th>282</th>\n",
       "      <td>40</td>\n",
       "    </tr>\n",
       "    <tr>\n",
       "      <th>733</th>\n",
       "      <td>48</td>\n",
       "    </tr>\n",
       "    <tr>\n",
       "      <th>1026</th>\n",
       "      <td>95</td>\n",
       "    </tr>\n",
       "    <tr>\n",
       "      <th>262</th>\n",
       "      <td>38</td>\n",
       "    </tr>\n",
       "    <tr>\n",
       "      <th>326</th>\n",
       "      <td>60</td>\n",
       "    </tr>\n",
       "  </tbody>\n",
       "</table>\n",
       "</div>"
      ],
      "text/plain": [
       "      HP\n",
       "282   40\n",
       "733   48\n",
       "1026  95\n",
       "262   38\n",
       "326   60"
      ]
     },
     "execution_count": 87,
     "metadata": {},
     "output_type": "execute_result"
    }
   ],
   "source": [
    "X_train.head(5)"
   ]
  },
  {
   "cell_type": "code",
   "execution_count": 88,
   "metadata": {},
   "outputs": [
    {
     "data": {
      "text/html": [
       "<div>\n",
       "<style scoped>\n",
       "    .dataframe tbody tr th:only-of-type {\n",
       "        vertical-align: middle;\n",
       "    }\n",
       "\n",
       "    .dataframe tbody tr th {\n",
       "        vertical-align: top;\n",
       "    }\n",
       "\n",
       "    .dataframe thead th {\n",
       "        text-align: right;\n",
       "    }\n",
       "</style>\n",
       "<table border=\"1\" class=\"dataframe\">\n",
       "  <thead>\n",
       "    <tr style=\"text-align: right;\">\n",
       "      <th></th>\n",
       "      <th>Attack</th>\n",
       "    </tr>\n",
       "  </thead>\n",
       "  <tbody>\n",
       "    <tr>\n",
       "      <th>282</th>\n",
       "      <td>30</td>\n",
       "    </tr>\n",
       "    <tr>\n",
       "      <th>733</th>\n",
       "      <td>70</td>\n",
       "    </tr>\n",
       "    <tr>\n",
       "      <th>1026</th>\n",
       "      <td>95</td>\n",
       "    </tr>\n",
       "    <tr>\n",
       "      <th>262</th>\n",
       "      <td>30</td>\n",
       "    </tr>\n",
       "    <tr>\n",
       "      <th>326</th>\n",
       "      <td>60</td>\n",
       "    </tr>\n",
       "  </tbody>\n",
       "</table>\n",
       "</div>"
      ],
      "text/plain": [
       "      Attack\n",
       "282       30\n",
       "733       70\n",
       "1026      95\n",
       "262       30\n",
       "326       60"
      ]
     },
     "execution_count": 88,
     "metadata": {},
     "output_type": "execute_result"
    }
   ],
   "source": [
    "Y_train.head(5)"
   ]
  },
  {
   "cell_type": "markdown",
   "metadata": {},
   "source": [
    "<strong> <p style=\"font-size: 150%\"> CREATE LinearRegression\n"
   ]
  },
  {
   "cell_type": "code",
   "execution_count": 89,
   "metadata": {},
   "outputs": [],
   "source": [
    "from sklearn.linear_model import LinearRegression\n",
    "from sklearn import datasets, linear_model\n",
    "\n",
    "\n",
    "clf = linear_model.LinearRegression(copy_X = True, fit_intercept = True, n_jobs = None, normalize = False)"
   ]
  },
  {
   "cell_type": "code",
   "execution_count": 90,
   "metadata": {},
   "outputs": [
    {
     "data": {
      "text/plain": [
       "LinearRegression()"
      ]
     },
     "execution_count": 90,
     "metadata": {},
     "output_type": "execute_result"
    }
   ],
   "source": [
    "clf.fit(X_train, Y_train)"
   ]
  },
  {
   "cell_type": "markdown",
   "metadata": {},
   "source": [
    "<strong> <p style=\"font-size: 150%\"> Print Coef\n"
   ]
  },
  {
   "cell_type": "code",
   "execution_count": 93,
   "metadata": {},
   "outputs": [
    {
     "name": "stdout",
     "output_type": "stream",
     "text": [
      "Coef :  [[0.59694688]]\n",
      "Intercept :  [37.16605845]\n"
     ]
    }
   ],
   "source": [
    "print('Coef : ', clf.coef_)\n",
    "print('Intercept : ', clf.intercept_)"
   ]
  },
  {
   "cell_type": "markdown",
   "metadata": {},
   "source": [
    "<strong> <p style=\"font-size: 150%\"> Prédiction sur X & Squared_error\n"
   ]
  },
  {
   "cell_type": "code",
   "execution_count": 94,
   "metadata": {},
   "outputs": [],
   "source": [
    "from sklearn.metrics import mean_squared_error, r2_score"
   ]
  },
  {
   "cell_type": "code",
   "execution_count": 95,
   "metadata": {},
   "outputs": [],
   "source": [
    "Y_prediction = clf.predict(X_test)"
   ]
  },
  {
   "cell_type": "code",
   "execution_count": 65,
   "metadata": {},
   "outputs": [
    {
     "data": {
      "text/plain": [
       "array([[ 63.62899008],\n",
       "       [ 88.09287566],\n",
       "       [ 74.50182812],\n",
       "       [ 74.50182812],\n",
       "       [ 87.54923376],\n",
       "       [ 47.31973303],\n",
       "       [ 71.78361861],\n",
       "       [ 57.10528726],\n",
       "       [ 63.62899008],\n",
       "       [ 73.41454431],\n",
       "       [ 66.34719959],\n",
       "       [101.6839232 ],\n",
       "       [ 74.50182812],\n",
       "       [ 77.22003762],\n",
       "       [ 84.83102425],\n",
       "       [ 73.95818621],\n",
       "       [ 66.34719959],\n",
       "       [ 82.65645664],\n",
       "       [ 79.93824713],\n",
       "       [ 85.37466615],\n",
       "       [ 90.81108517],\n",
       "       [ 63.62899008],\n",
       "       [ 65.80355769],\n",
       "       [ 77.22003762],\n",
       "       [ 66.34719959],\n",
       "       [ 74.50182812],\n",
       "       [ 67.9781253 ],\n",
       "       [ 77.22003762],\n",
       "       [ 79.93824713],\n",
       "       [ 84.28738235],\n",
       "       [ 96.24750419],\n",
       "       [ 58.19257106],\n",
       "       [ 71.78361861],\n",
       "       [ 63.62899008],\n",
       "       [ 77.22003762],\n",
       "       [ 82.65645664],\n",
       "       [ 77.22003762],\n",
       "       [ 69.0654091 ],\n",
       "       [ 93.52929468],\n",
       "       [ 71.78361861],\n",
       "       [ 93.52929468],\n",
       "       [ 63.62899008],\n",
       "       [ 84.28738235],\n",
       "       [ 79.93824713],\n",
       "       [ 68.5217672 ],\n",
       "       [ 82.65645664],\n",
       "       [ 97.87842989],\n",
       "       [ 93.52929468],\n",
       "       [ 63.62899008],\n",
       "       [ 63.62899008],\n",
       "       [ 78.30732143],\n",
       "       [ 85.37466615],\n",
       "       [ 79.93824713],\n",
       "       [ 82.65645664],\n",
       "       [107.12034222],\n",
       "       [ 66.34719959],\n",
       "       [ 69.0654091 ],\n",
       "       [107.12034222],\n",
       "       [ 84.28738235],\n",
       "       [ 93.52929468],\n",
       "       [ 93.52929468],\n",
       "       [ 65.25991579],\n",
       "       [ 63.62899008],\n",
       "       [ 55.47436156],\n",
       "       [ 71.78361861],\n",
       "       [ 82.65645664],\n",
       "       [ 74.50182812],\n",
       "       [ 82.65645664],\n",
       "       [ 77.22003762],\n",
       "       [ 62.54170628],\n",
       "       [ 67.9781253 ],\n",
       "       [ 67.9781253 ],\n",
       "       [ 85.37466615],\n",
       "       [ 79.93824713],\n",
       "       [ 93.52929468],\n",
       "       [ 87.00559186],\n",
       "       [ 79.93824713],\n",
       "       [104.40213271],\n",
       "       [ 74.50182812],\n",
       "       [ 71.78361861],\n",
       "       [ 63.62899008],\n",
       "       [ 73.95818621],\n",
       "       [ 93.52929468],\n",
       "       [ 84.28738235],\n",
       "       [ 74.50182812],\n",
       "       [ 58.19257106],\n",
       "       [104.40213271],\n",
       "       [ 88.09287566],\n",
       "       [123.42959927],\n",
       "       [ 82.65645664],\n",
       "       [ 93.52929468],\n",
       "       [ 62.54170628],\n",
       "       [101.6839232 ],\n",
       "       [ 63.62899008],\n",
       "       [ 74.50182812],\n",
       "       [ 69.0654091 ],\n",
       "       [ 78.30732143],\n",
       "       [101.1402813 ],\n",
       "       [ 95.70386228],\n",
       "       [ 84.28738235],\n",
       "       [ 71.78361861],\n",
       "       [ 74.50182812],\n",
       "       [ 71.78361861],\n",
       "       [ 66.34719959],\n",
       "       [ 67.9781253 ],\n",
       "       [ 71.23997671],\n",
       "       [ 69.0654091 ],\n",
       "       [ 69.0654091 ],\n",
       "       [ 93.52929468],\n",
       "       [101.6839232 ],\n",
       "       [ 90.81108517],\n",
       "       [ 93.52929468],\n",
       "       [ 85.37466615],\n",
       "       [ 74.50182812],\n",
       "       [ 82.65645664],\n",
       "       [100.5966394 ],\n",
       "       [ 69.0654091 ],\n",
       "       [ 96.24750419],\n",
       "       [ 79.93824713],\n",
       "       [ 71.78361861],\n",
       "       [ 58.19257106],\n",
       "       [ 74.50182812],\n",
       "       [ 74.50182812],\n",
       "       [ 79.93824713],\n",
       "       [ 79.93824713],\n",
       "       [ 69.0654091 ],\n",
       "       [ 66.34719959],\n",
       "       [ 67.9781253 ],\n",
       "       [ 88.63651756],\n",
       "       [145.17527534],\n",
       "       [ 60.91078057],\n",
       "       [ 84.83102425],\n",
       "       [ 66.34719959],\n",
       "       [ 96.24750419],\n",
       "       [110.38219363],\n",
       "       [ 60.91078057],\n",
       "       [ 90.81108517],\n",
       "       [ 82.65645664],\n",
       "       [ 63.62899008],\n",
       "       [ 98.96571369],\n",
       "       [ 69.0654091 ],\n",
       "       [ 82.65645664],\n",
       "       [ 65.80355769],\n",
       "       [ 74.50182812],\n",
       "       [101.6839232 ],\n",
       "       [ 82.65645664],\n",
       "       [ 66.34719959],\n",
       "       [ 79.93824713],\n",
       "       [ 74.50182812],\n",
       "       [ 58.19257106],\n",
       "       [ 90.81108517],\n",
       "       [ 88.09287566],\n",
       "       [ 73.95818621],\n",
       "       [ 93.52929468],\n",
       "       [ 98.96571369],\n",
       "       [ 96.24750419],\n",
       "       [ 66.89084149],\n",
       "       [ 87.00559186],\n",
       "       [ 82.65645664],\n",
       "       [ 82.65645664],\n",
       "       [ 85.37466615],\n",
       "       [ 80.48188904],\n",
       "       [ 98.96571369],\n",
       "       [ 71.78361861],\n",
       "       [ 74.50182812],\n",
       "       [ 60.91078057],\n",
       "       [ 74.50182812],\n",
       "       [ 74.50182812],\n",
       "       [ 90.81108517],\n",
       "       [ 85.37466615],\n",
       "       [ 96.24750419],\n",
       "       [ 74.50182812],\n",
       "       [163.1154581 ],\n",
       "       [ 74.50182812],\n",
       "       [104.40213271],\n",
       "       [ 82.65645664],\n",
       "       [ 98.96571369],\n",
       "       [ 85.37466615],\n",
       "       [103.85849081],\n",
       "       [ 93.52929468],\n",
       "       [ 71.78361861],\n",
       "       [ 79.93824713],\n",
       "       [ 77.22003762],\n",
       "       [ 67.9781253 ],\n",
       "       [ 71.78361861],\n",
       "       [107.12034222],\n",
       "       [ 81.56917284],\n",
       "       [ 83.74374045],\n",
       "       [ 96.24750419],\n",
       "       [ 78.85096333],\n",
       "       [ 60.91078057],\n",
       "       [ 69.0654091 ],\n",
       "       [ 77.22003762],\n",
       "       [107.12034222],\n",
       "       [ 93.52929468],\n",
       "       [ 60.91078057],\n",
       "       [ 74.50182812],\n",
       "       [ 63.62899008],\n",
       "       [ 96.24750419],\n",
       "       [ 82.11281474],\n",
       "       [ 85.37466615],\n",
       "       [ 74.50182812],\n",
       "       [ 79.93824713],\n",
       "       [ 66.34719959],\n",
       "       [ 88.09287566],\n",
       "       [ 71.78361861],\n",
       "       [ 91.35472707],\n",
       "       [ 91.89836897],\n",
       "       [ 85.37466615],\n",
       "       [ 84.83102425],\n",
       "       [ 71.78361861],\n",
       "       [ 79.39460523],\n",
       "       [ 88.09287566]])"
      ]
     },
     "execution_count": 65,
     "metadata": {},
     "output_type": "execute_result"
    }
   ],
   "source": [
    "Y_prediction"
   ]
  },
  {
   "cell_type": "code",
   "execution_count": 96,
   "metadata": {},
   "outputs": [
    {
     "name": "stdout",
     "output_type": "stream",
     "text": [
      "Mean Squared Error : 1055.05\n"
     ]
    }
   ],
   "source": [
    "print('Mean Squared Error : %.2f' % mean_squared_error(Y_test, Y_prediction))"
   ]
  },
  {
   "cell_type": "code",
   "execution_count": 97,
   "metadata": {},
   "outputs": [
    {
     "name": "stdout",
     "output_type": "stream",
     "text": [
      "Coefficient of determination: 0.02\n"
     ]
    }
   ],
   "source": [
    "print('Coefficient of determination: %.2f' % r2_score(Y_test, Y_prediction))"
   ]
  },
  {
   "cell_type": "code",
   "execution_count": 107,
   "metadata": {},
   "outputs": [
    {
     "data": {
      "image/png": "[encoded data removed]",
      "text/plain": [
       "<Figure size 432x288 with 1 Axes>"
      ]
     },
     "metadata": {
      "needs_background": "light"
     },
     "output_type": "display_data"
    }
   ],
   "source": [
    "plt.scatter(X, Y)\n",
    "plt.plot(X, Y, color='red')\n",
    "\n",
    "plt.title(\"Analyse de l'attaque sur les HP\")\n",
    "plt.xlabel(\"HP $\\hat{y}_i$\")\n",
    "plt.ylabel(\"Attack $|t_i^*|$\")\n",
    "\n",
    "plt.show()"
   ]
  },
  {
   "cell_type": "code",
   "execution_count": null,
   "metadata": {},
   "outputs": [],
   "source": []
  }
 ],
 "metadata": {
  "kernelspec": {
   "display_name": "Python 3",
   "language": "python",
   "name": "python3"
  },
  "language_info": {
   "codemirror_mode": {
    "name": "ipython",
    "version": 3
   },
   "file_extension": ".py",
   "mimetype": "text/x-python",
   "name": "python",
   "nbconvert_exporter": "python",
   "pygments_lexer": "ipython3",
   "version": "3.8.5"
  },
  "toc": {
   "base_numbering": 1,
   "nav_menu": {},
   "number_sections": true,
   "sideBar": true,
   "skip_h1_title": false,
   "title_cell": "Table of Contents",
   "title_sidebar": "Contents",
   "toc_cell": false,
   "toc_position": {},
   "toc_section_display": true,
   "toc_window_display": false
  },
  "varInspector": {
   "cols": {
    "lenName": 16,
    "lenType": 16,
    "lenVar": 40
   },
   "kernels_config": {
    "python": {
     "delete_cmd_postfix": "",
     "delete_cmd_prefix": "del ",
     "library": "var_list.py",
     "varRefreshCmd": "print(var_dic_list())"
    },
    "r": {
     "delete_cmd_postfix": ") ",
     "delete_cmd_prefix": "rm(",
     "library": "var_list.r",
     "varRefreshCmd": "cat(var_dic_list()) "
    }
   },
   "types_to_exclude": [
    "module",
    "function",
    "builtin_function_or_method",
    "instance",
    "_Feature"
   ],
   "window_display": false
  }
 },
 "nbformat": 4,
 "nbformat_minor": 4
}
