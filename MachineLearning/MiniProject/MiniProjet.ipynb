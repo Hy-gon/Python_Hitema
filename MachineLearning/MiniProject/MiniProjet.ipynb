{
 "cells": [
  {
   "cell_type": "markdown",
   "metadata": {},
   "source": [
    "<strong><p style=\"font-size: 150%\"> [✓] IMPORT LIB\n"
   ]
  },
  {
   "cell_type": "code",
   "execution_count": 30,
   "metadata": {},
   "outputs": [],
   "source": [
    "import numpy as np\n",
    "import math \n",
    "import matplotlib.pyplot as plt\n",
    "from scipy.stats import norm\n",
    "import pandas as pd\n",
    "import sklearn as sk"
   ]
  },
  {
   "cell_type": "markdown",
   "metadata": {},
   "source": [
    "<strong><p style=\"font-size: 150%\"> [✓] IMPORT CSV + DATA CLEANING"
   ]
  },
  {
   "cell_type": "code",
   "execution_count": 139,
   "metadata": {},
   "outputs": [],
   "source": [
    "#charger les données \n",
    "\n",
    "fpStore = \"PlayStore.csv\"\n",
    "\n",
    "# Bien regler les séparateurs\n",
    "dataStore = pd.read_csv(fpStore, usecols = ['App', 'Rating', 'Reviews', 'Size', 'Installs', 'Content Rating', 'Last Updated', 'Current Ver', 'Android Ver', 'Category (categorical)', 'Type (categorical)', 'Genres (categorical)', 'Last Updated (Year/Month) (categorical)','No_reviews_count', 'Reviews_present_count'])"
   ]
  },
  {
   "cell_type": "code",
   "execution_count": 140,
   "metadata": {},
   "outputs": [
    {
     "data": {
      "text/html": [
       "<div>\n",
       "<style scoped>\n",
       "    .dataframe tbody tr th:only-of-type {\n",
       "        vertical-align: middle;\n",
       "    }\n",
       "\n",
       "    .dataframe tbody tr th {\n",
       "        vertical-align: top;\n",
       "    }\n",
       "\n",
       "    .dataframe thead th {\n",
       "        text-align: right;\n",
       "    }\n",
       "</style>\n",
       "<table border=\"1\" class=\"dataframe\">\n",
       "  <thead>\n",
       "    <tr style=\"text-align: right;\">\n",
       "      <th></th>\n",
       "      <th>App</th>\n",
       "      <th>Rating</th>\n",
       "      <th>Reviews</th>\n",
       "      <th>Size</th>\n",
       "      <th>Installs</th>\n",
       "      <th>Content Rating</th>\n",
       "      <th>Last Updated</th>\n",
       "      <th>Current Ver</th>\n",
       "      <th>Android Ver</th>\n",
       "      <th>Category (categorical)</th>\n",
       "      <th>Type (categorical)</th>\n",
       "      <th>Genres (categorical)</th>\n",
       "      <th>Last Updated (Year/Month) (categorical)</th>\n",
       "      <th>No_reviews_count</th>\n",
       "      <th>Reviews_present_count</th>\n",
       "    </tr>\n",
       "  </thead>\n",
       "  <tbody>\n",
       "    <tr>\n",
       "      <th>0</th>\n",
       "      <td>Photo Editor &amp; Candy Camera &amp; Grid &amp; ScrapBook</td>\n",
       "      <td>4.1</td>\n",
       "      <td>159</td>\n",
       "      <td>19.0</td>\n",
       "      <td>10000.0</td>\n",
       "      <td>Everyone</td>\n",
       "      <td>2018-01-07</td>\n",
       "      <td>118.0</td>\n",
       "      <td>15.0</td>\n",
       "      <td>ART_AND_DESIGN</td>\n",
       "      <td>Free</td>\n",
       "      <td>Art &amp; Design</td>\n",
       "      <td>2018-01</td>\n",
       "      <td>0</td>\n",
       "      <td>0</td>\n",
       "    </tr>\n",
       "    <tr>\n",
       "      <th>1</th>\n",
       "      <td>Coloring book moana</td>\n",
       "      <td>3.9</td>\n",
       "      <td>967</td>\n",
       "      <td>14.0</td>\n",
       "      <td>500000.0</td>\n",
       "      <td>Everyone</td>\n",
       "      <td>2018-01-15</td>\n",
       "      <td>1015.0</td>\n",
       "      <td>15.0</td>\n",
       "      <td>ART_AND_DESIGN</td>\n",
       "      <td>Free</td>\n",
       "      <td>Art &amp; Design;Pretend Play</td>\n",
       "      <td>2018-01</td>\n",
       "      <td>14</td>\n",
       "      <td>44</td>\n",
       "    </tr>\n",
       "    <tr>\n",
       "      <th>2</th>\n",
       "      <td>U Launcher Lite – FREE Live Cool Themes, Hide ...</td>\n",
       "      <td>4.7</td>\n",
       "      <td>87510</td>\n",
       "      <td>8.7</td>\n",
       "      <td>5000000.0</td>\n",
       "      <td>Everyone</td>\n",
       "      <td>2018-08-01</td>\n",
       "      <td>464.0</td>\n",
       "      <td>15.0</td>\n",
       "      <td>ART_AND_DESIGN</td>\n",
       "      <td>Free</td>\n",
       "      <td>Art &amp; Design</td>\n",
       "      <td>2018-08</td>\n",
       "      <td>0</td>\n",
       "      <td>0</td>\n",
       "    </tr>\n",
       "    <tr>\n",
       "      <th>3</th>\n",
       "      <td>Sketch - Draw &amp; Paint</td>\n",
       "      <td>4.5</td>\n",
       "      <td>215644</td>\n",
       "      <td>25.0</td>\n",
       "      <td>50000000.0</td>\n",
       "      <td>Teen</td>\n",
       "      <td>2018-06-08</td>\n",
       "      <td>2750.0</td>\n",
       "      <td>18.0</td>\n",
       "      <td>ART_AND_DESIGN</td>\n",
       "      <td>Free</td>\n",
       "      <td>Art &amp; Design</td>\n",
       "      <td>2018-06</td>\n",
       "      <td>0</td>\n",
       "      <td>0</td>\n",
       "    </tr>\n",
       "    <tr>\n",
       "      <th>4</th>\n",
       "      <td>Pixel Draw - Number Art Coloring Book</td>\n",
       "      <td>4.3</td>\n",
       "      <td>967</td>\n",
       "      <td>2.8</td>\n",
       "      <td>100000.0</td>\n",
       "      <td>Everyone</td>\n",
       "      <td>2018-06-20</td>\n",
       "      <td>277.0</td>\n",
       "      <td>20.0</td>\n",
       "      <td>ART_AND_DESIGN</td>\n",
       "      <td>Free</td>\n",
       "      <td>Art &amp; Design;Creativity</td>\n",
       "      <td>2018-06</td>\n",
       "      <td>0</td>\n",
       "      <td>0</td>\n",
       "    </tr>\n",
       "  </tbody>\n",
       "</table>\n",
       "</div>"
      ],
      "text/plain": [
       "                                                 App  Rating  Reviews  Size  \\\n",
       "0     Photo Editor & Candy Camera & Grid & ScrapBook     4.1      159  19.0   \n",
       "1                                Coloring book moana     3.9      967  14.0   \n",
       "2  U Launcher Lite – FREE Live Cool Themes, Hide ...     4.7    87510   8.7   \n",
       "3                              Sketch - Draw & Paint     4.5   215644  25.0   \n",
       "4              Pixel Draw - Number Art Coloring Book     4.3      967   2.8   \n",
       "\n",
       "     Installs Content Rating Last Updated  Current Ver  Android Ver  \\\n",
       "0     10000.0       Everyone   2018-01-07        118.0         15.0   \n",
       "1    500000.0       Everyone   2018-01-15       1015.0         15.0   \n",
       "2   5000000.0       Everyone   2018-08-01        464.0         15.0   \n",
       "3  50000000.0           Teen   2018-06-08       2750.0         18.0   \n",
       "4    100000.0       Everyone   2018-06-20        277.0         20.0   \n",
       "\n",
       "  Category (categorical) Type (categorical)       Genres (categorical)  \\\n",
       "0         ART_AND_DESIGN               Free               Art & Design   \n",
       "1         ART_AND_DESIGN               Free  Art & Design;Pretend Play   \n",
       "2         ART_AND_DESIGN               Free               Art & Design   \n",
       "3         ART_AND_DESIGN               Free               Art & Design   \n",
       "4         ART_AND_DESIGN               Free    Art & Design;Creativity   \n",
       "\n",
       "  Last Updated (Year/Month) (categorical)  No_reviews_count  \\\n",
       "0                                 2018-01                 0   \n",
       "1                                 2018-01                14   \n",
       "2                                 2018-08                 0   \n",
       "3                                 2018-06                 0   \n",
       "4                                 2018-06                 0   \n",
       "\n",
       "   Reviews_present_count  \n",
       "0                      0  \n",
       "1                     44  \n",
       "2                      0  \n",
       "3                      0  \n",
       "4                      0  "
      ]
     },
     "execution_count": 140,
     "metadata": {},
     "output_type": "execute_result"
    }
   ],
   "source": [
    "dataStore.head(5)"
   ]
  },
  {
   "cell_type": "code",
   "execution_count": 147,
   "metadata": {},
   "outputs": [],
   "source": [
    "dataStore['Last Updated'] = pd.to_datetime(dataStore['Last Updated'])\n",
    "\n",
    "dataStore['Last Updated (Year/Month) (categorical)'] = pd.to_datetime(dataStore['Last Updated (Year/Month) (categorical)'])"
   ]
  },
  {
   "cell_type": "code",
   "execution_count": 148,
   "metadata": {},
   "outputs": [
    {
     "name": "stdout",
     "output_type": "stream",
     "text": [
      "(9659, 15)\n"
     ]
    }
   ],
   "source": [
    "print(dataStore.shape)"
   ]
  },
  {
   "cell_type": "code",
   "execution_count": 149,
   "metadata": {},
   "outputs": [
    {
     "name": "stdout",
     "output_type": "stream",
     "text": [
      "App                                                object\n",
      "Rating                                            float64\n",
      "Reviews                                             int64\n",
      "Size                                              float64\n",
      "Installs                                          float64\n",
      "Content Rating                                     object\n",
      "Last Updated                               datetime64[ns]\n",
      "Current Ver                                       float64\n",
      "Android Ver                                       float64\n",
      "Category (categorical)                             object\n",
      "Type (categorical)                                 object\n",
      "Genres (categorical)                               object\n",
      "Last Updated (Year/Month) (categorical)    datetime64[ns]\n",
      "No_reviews_count                                    int64\n",
      "Reviews_present_count                               int64\n",
      "dtype: object\n"
     ]
    }
   ],
   "source": [
    "print(dataStore.dtypes)"
   ]
  },
  {
   "cell_type": "code",
   "execution_count": 150,
   "metadata": {},
   "outputs": [
    {
     "data": {
      "text/html": [
       "<div>\n",
       "<style scoped>\n",
       "    .dataframe tbody tr th:only-of-type {\n",
       "        vertical-align: middle;\n",
       "    }\n",
       "\n",
       "    .dataframe tbody tr th {\n",
       "        vertical-align: top;\n",
       "    }\n",
       "\n",
       "    .dataframe thead th {\n",
       "        text-align: right;\n",
       "    }\n",
       "</style>\n",
       "<table border=\"1\" class=\"dataframe\">\n",
       "  <thead>\n",
       "    <tr style=\"text-align: right;\">\n",
       "      <th></th>\n",
       "      <th>App</th>\n",
       "      <th>Rating</th>\n",
       "      <th>Reviews</th>\n",
       "      <th>Size</th>\n",
       "      <th>Installs</th>\n",
       "      <th>Content Rating</th>\n",
       "      <th>Last Updated</th>\n",
       "      <th>Current Ver</th>\n",
       "      <th>Android Ver</th>\n",
       "      <th>Category (categorical)</th>\n",
       "      <th>Type (categorical)</th>\n",
       "      <th>Genres (categorical)</th>\n",
       "      <th>Last Updated (Year/Month) (categorical)</th>\n",
       "      <th>No_reviews_count</th>\n",
       "      <th>Reviews_present_count</th>\n",
       "    </tr>\n",
       "  </thead>\n",
       "  <tbody>\n",
       "    <tr>\n",
       "      <th>0</th>\n",
       "      <td>Photo Editor &amp; Candy Camera &amp; Grid &amp; ScrapBook</td>\n",
       "      <td>4.1</td>\n",
       "      <td>159</td>\n",
       "      <td>19.0</td>\n",
       "      <td>10000.0</td>\n",
       "      <td>Everyone</td>\n",
       "      <td>2018-01-07</td>\n",
       "      <td>118.0</td>\n",
       "      <td>15.0</td>\n",
       "      <td>ART_AND_DESIGN</td>\n",
       "      <td>Free</td>\n",
       "      <td>Art &amp; Design</td>\n",
       "      <td>2018-01-01</td>\n",
       "      <td>0</td>\n",
       "      <td>0</td>\n",
       "    </tr>\n",
       "    <tr>\n",
       "      <th>1</th>\n",
       "      <td>Coloring book moana</td>\n",
       "      <td>3.9</td>\n",
       "      <td>967</td>\n",
       "      <td>14.0</td>\n",
       "      <td>500000.0</td>\n",
       "      <td>Everyone</td>\n",
       "      <td>2018-01-15</td>\n",
       "      <td>1015.0</td>\n",
       "      <td>15.0</td>\n",
       "      <td>ART_AND_DESIGN</td>\n",
       "      <td>Free</td>\n",
       "      <td>Art &amp; Design;Pretend Play</td>\n",
       "      <td>2018-01-01</td>\n",
       "      <td>14</td>\n",
       "      <td>44</td>\n",
       "    </tr>\n",
       "    <tr>\n",
       "      <th>2</th>\n",
       "      <td>U Launcher Lite – FREE Live Cool Themes, Hide ...</td>\n",
       "      <td>4.7</td>\n",
       "      <td>87510</td>\n",
       "      <td>8.7</td>\n",
       "      <td>5000000.0</td>\n",
       "      <td>Everyone</td>\n",
       "      <td>2018-08-01</td>\n",
       "      <td>464.0</td>\n",
       "      <td>15.0</td>\n",
       "      <td>ART_AND_DESIGN</td>\n",
       "      <td>Free</td>\n",
       "      <td>Art &amp; Design</td>\n",
       "      <td>2018-08-01</td>\n",
       "      <td>0</td>\n",
       "      <td>0</td>\n",
       "    </tr>\n",
       "    <tr>\n",
       "      <th>3</th>\n",
       "      <td>Sketch - Draw &amp; Paint</td>\n",
       "      <td>4.5</td>\n",
       "      <td>215644</td>\n",
       "      <td>25.0</td>\n",
       "      <td>50000000.0</td>\n",
       "      <td>Teen</td>\n",
       "      <td>2018-06-08</td>\n",
       "      <td>2750.0</td>\n",
       "      <td>18.0</td>\n",
       "      <td>ART_AND_DESIGN</td>\n",
       "      <td>Free</td>\n",
       "      <td>Art &amp; Design</td>\n",
       "      <td>2018-06-01</td>\n",
       "      <td>0</td>\n",
       "      <td>0</td>\n",
       "    </tr>\n",
       "    <tr>\n",
       "      <th>4</th>\n",
       "      <td>Pixel Draw - Number Art Coloring Book</td>\n",
       "      <td>4.3</td>\n",
       "      <td>967</td>\n",
       "      <td>2.8</td>\n",
       "      <td>100000.0</td>\n",
       "      <td>Everyone</td>\n",
       "      <td>2018-06-20</td>\n",
       "      <td>277.0</td>\n",
       "      <td>20.0</td>\n",
       "      <td>ART_AND_DESIGN</td>\n",
       "      <td>Free</td>\n",
       "      <td>Art &amp; Design;Creativity</td>\n",
       "      <td>2018-06-01</td>\n",
       "      <td>0</td>\n",
       "      <td>0</td>\n",
       "    </tr>\n",
       "  </tbody>\n",
       "</table>\n",
       "</div>"
      ],
      "text/plain": [
       "                                                 App  Rating  Reviews  Size  \\\n",
       "0     Photo Editor & Candy Camera & Grid & ScrapBook     4.1      159  19.0   \n",
       "1                                Coloring book moana     3.9      967  14.0   \n",
       "2  U Launcher Lite – FREE Live Cool Themes, Hide ...     4.7    87510   8.7   \n",
       "3                              Sketch - Draw & Paint     4.5   215644  25.0   \n",
       "4              Pixel Draw - Number Art Coloring Book     4.3      967   2.8   \n",
       "\n",
       "     Installs Content Rating Last Updated  Current Ver  Android Ver  \\\n",
       "0     10000.0       Everyone   2018-01-07        118.0         15.0   \n",
       "1    500000.0       Everyone   2018-01-15       1015.0         15.0   \n",
       "2   5000000.0       Everyone   2018-08-01        464.0         15.0   \n",
       "3  50000000.0           Teen   2018-06-08       2750.0         18.0   \n",
       "4    100000.0       Everyone   2018-06-20        277.0         20.0   \n",
       "\n",
       "  Category (categorical) Type (categorical)       Genres (categorical)  \\\n",
       "0         ART_AND_DESIGN               Free               Art & Design   \n",
       "1         ART_AND_DESIGN               Free  Art & Design;Pretend Play   \n",
       "2         ART_AND_DESIGN               Free               Art & Design   \n",
       "3         ART_AND_DESIGN               Free               Art & Design   \n",
       "4         ART_AND_DESIGN               Free    Art & Design;Creativity   \n",
       "\n",
       "  Last Updated (Year/Month) (categorical)  No_reviews_count  \\\n",
       "0                              2018-01-01                 0   \n",
       "1                              2018-01-01                14   \n",
       "2                              2018-08-01                 0   \n",
       "3                              2018-06-01                 0   \n",
       "4                              2018-06-01                 0   \n",
       "\n",
       "   Reviews_present_count  \n",
       "0                      0  \n",
       "1                     44  \n",
       "2                      0  \n",
       "3                      0  \n",
       "4                      0  "
      ]
     },
     "execution_count": 150,
     "metadata": {},
     "output_type": "execute_result"
    }
   ],
   "source": [
    "dataStore.head(5)"
   ]
  },
  {
   "cell_type": "code",
   "execution_count": 154,
   "metadata": {},
   "outputs": [
    {
     "data": {
      "text/plain": [
       "App                                        False\n",
       "Rating                                     False\n",
       "Reviews                                    False\n",
       "Size                                       False\n",
       "Installs                                   False\n",
       "Content Rating                             False\n",
       "Last Updated                               False\n",
       "Current Ver                                False\n",
       "Android Ver                                False\n",
       "Category (categorical)                     False\n",
       "Type (categorical)                         False\n",
       "Genres (categorical)                       False\n",
       "Last Updated (Year/Month) (categorical)    False\n",
       "No_reviews_count                           False\n",
       "Reviews_present_count                      False\n",
       "dtype: bool"
      ]
     },
     "execution_count": 154,
     "metadata": {},
     "output_type": "execute_result"
    }
   ],
   "source": [
    "dataStore = dataStore.dropna()\n",
    "dataStore.isnull().any()"
   ]
  },
  {
   "cell_type": "markdown",
   "metadata": {},
   "source": [
    "## Problématique : Est-ce qu'un jeu, mieux il sera noté, plus il sera téléchargé ?\n",
    "Grâce a cette problématique, l'on pourra savoir si une note haute corèle souvent avec un haut taux de téléchargement\n",
    "\n",
    "Cela pourrais être très pratique pour les utilisateurs recherchant de très bon jeux parmis toute la liste, c'est un peu le même système que met en place PlayStore\n"
   ]
  },
  {
   "cell_type": "markdown",
   "metadata": {},
   "source": [
    "# Partie 1 : Analyse graphique des données (Dataviz)"
   ]
  },
  {
   "cell_type": "markdown",
   "metadata": {},
   "source": [
    "## Diagramme Gaussien"
   ]
  },
  {
   "cell_type": "code",
   "execution_count": 155,
   "metadata": {},
   "outputs": [],
   "source": [
    "std = np.std(dataStore.Rating, ddof=1)\n",
    "mean = np.mean(dataStore.Rating)"
   ]
  },
  {
   "cell_type": "code",
   "execution_count": 162,
   "metadata": {},
   "outputs": [
    {
     "data": {
      "image/png": "[encoded data removed]",
      "text/plain": [
       "<Figure size 432x288 with 1 Axes>"
      ]
     },
     "metadata": {
      "needs_background": "light"
     },
     "output_type": "display_data"
    }
   ],
   "source": [
    "domain = np.linspace(np.min(dataStore.Rating), np.max(dataStore.Rating))\n",
    "plt.plot(domain, norm.pdf(domain, mean, std))\n",
    "plt.hist(dataStore.Rating, edgecolor = 'black', alpha = 0.5, density = True)\n",
    "\n",
    "\n",
    "plt.title('Nombre de votes en fonction des notes des applications')\n",
    "plt.xlabel('Note des appli')\n",
    "plt.ylabel('densité')\n",
    "plt.show()"
   ]
  },
  {
   "cell_type": "markdown",
   "metadata": {},
   "source": [
    "On peux voir que la moyenne des notes ce situent surtout entre 4.0 et 4.5"
   ]
  },
  {
   "cell_type": "markdown",
   "metadata": {},
   "source": [
    "## Boite a moustache avec données extrèmes"
   ]
  },
  {
   "cell_type": "code",
   "execution_count": 193,
   "metadata": {},
   "outputs": [
    {
     "data": {
      "text/html": [
       "<div>\n",
       "<style scoped>\n",
       "    .dataframe tbody tr th:only-of-type {\n",
       "        vertical-align: middle;\n",
       "    }\n",
       "\n",
       "    .dataframe tbody tr th {\n",
       "        vertical-align: top;\n",
       "    }\n",
       "\n",
       "    .dataframe thead th {\n",
       "        text-align: right;\n",
       "    }\n",
       "</style>\n",
       "<table border=\"1\" class=\"dataframe\">\n",
       "  <thead>\n",
       "    <tr style=\"text-align: right;\">\n",
       "      <th></th>\n",
       "      <th>Rating</th>\n",
       "    </tr>\n",
       "  </thead>\n",
       "  <tbody>\n",
       "    <tr>\n",
       "      <th>0</th>\n",
       "      <td>4.1</td>\n",
       "    </tr>\n",
       "    <tr>\n",
       "      <th>1</th>\n",
       "      <td>3.9</td>\n",
       "    </tr>\n",
       "    <tr>\n",
       "      <th>2</th>\n",
       "      <td>4.7</td>\n",
       "    </tr>\n",
       "    <tr>\n",
       "      <th>3</th>\n",
       "      <td>4.5</td>\n",
       "    </tr>\n",
       "    <tr>\n",
       "      <th>4</th>\n",
       "      <td>4.3</td>\n",
       "    </tr>\n",
       "  </tbody>\n",
       "</table>\n",
       "</div>"
      ],
      "text/plain": [
       "   Rating\n",
       "0     4.1\n",
       "1     3.9\n",
       "2     4.7\n",
       "3     4.5\n",
       "4     4.3"
      ]
     },
     "execution_count": 193,
     "metadata": {},
     "output_type": "execute_result"
    }
   ],
   "source": [
    "game = pd.DataFrame()\n",
    "game['Rating'] = dataStore['Rating']\n",
    "\n",
    "\n",
    "game.head(5)"
   ]
  },
  {
   "cell_type": "code",
   "execution_count": 195,
   "metadata": {
    "scrolled": false
   },
   "outputs": [
    {
     "data": {
      "image/png": "[encoded data removed]",
      "text/plain": [
       "<Figure size 1080x720 with 1 Axes>"
      ]
     },
     "metadata": {
      "needs_background": "light"
     },
     "output_type": "display_data"
    }
   ],
   "source": [
    "plt.figure(figsize=(15,10))\n",
    "game.boxplot()\n",
    "plt.title(\"notes des jeux Android\")\n",
    "plt.show()"
   ]
  },
  {
   "cell_type": "code",
   "execution_count": null,
   "metadata": {},
   "outputs": [],
   "source": []
  }
 ],
 "metadata": {
  "kernelspec": {
   "display_name": "Python 3",
   "language": "python",
   "name": "python3"
  },
  "language_info": {
   "codemirror_mode": {
    "name": "ipython",
    "version": 3
   },
   "file_extension": ".py",
   "mimetype": "text/x-python",
   "name": "python",
   "nbconvert_exporter": "python",
   "pygments_lexer": "ipython3",
   "version": "3.8.5"
  },
  "toc": {
   "base_numbering": 1,
   "nav_menu": {},
   "number_sections": true,
   "sideBar": true,
   "skip_h1_title": false,
   "title_cell": "Table of Contents",
   "title_sidebar": "Contents",
   "toc_cell": false,
   "toc_position": {},
   "toc_section_display": true,
   "toc_window_display": false
  },
  "varInspector": {
   "cols": {
    "lenName": 16,
    "lenType": 16,
    "lenVar": 40
   },
   "kernels_config": {
    "python": {
     "delete_cmd_postfix": "",
     "delete_cmd_prefix": "del ",
     "library": "var_list.py",
     "varRefreshCmd": "print(var_dic_list())"
    },
    "r": {
     "delete_cmd_postfix": ") ",
     "delete_cmd_prefix": "rm(",
     "library": "var_list.r",
     "varRefreshCmd": "cat(var_dic_list()) "
    }
   },
   "types_to_exclude": [
    "module",
    "function",
    "builtin_function_or_method",
    "instance",
    "_Feature"
   ],
   "window_display": false
  }
 },
 "nbformat": 4,
 "nbformat_minor": 4
}
