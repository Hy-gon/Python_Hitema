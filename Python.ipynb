{
 "cells": [
  {
   "cell_type": "markdown",
   "metadata": {},
   "source": [
    "<img src=\"https://www.python.org/static/community_logos/python-logo-master-v3-TM-flattened.png\" alt=\"Alt text that describes the graphic\" title=\"Title text\" />\n"
   ]
  },
  {
   "cell_type": "markdown",
   "metadata": {},
   "source": [
    "# Mickael Lemieux"
   ]
  },
  {
   "cell_type": "markdown",
   "metadata": {},
   "source": [
    "***"
   ]
  },
  {
   "cell_type": "markdown",
   "metadata": {},
   "source": [
    "# <font color='red'>15 / 09 / 2020</font> "
   ]
  },
  {
   "cell_type": "markdown",
   "metadata": {},
   "source": [
    "## EXERCICE 1.1"
   ]
  },
  {
   "cell_type": "markdown",
   "metadata": {},
   "source": [
    "### Ecrire un algorithme permettant d'échanger les valeurs de deux variables A et B."
   ]
  },
  {
   "cell_type": "code",
   "execution_count": 1,
   "metadata": {},
   "outputs": [
    {
     "name": "stdout",
     "output_type": "stream",
     "text": [
      "Valeur a 4 et Valeur b 1\n"
     ]
    }
   ],
   "source": [
    "a = 1\n",
    "b = 4\n",
    "\n",
    "c = a\n",
    "a = b\n",
    "b = c\n",
    "\n",
    "print(\"Valeur a {} et Valeur b {}\".format(a, b))"
   ]
  },
  {
   "cell_type": "markdown",
   "metadata": {},
   "source": [
    "## EXERCICE 1.2 "
   ]
  },
  {
   "cell_type": "markdown",
   "metadata": {},
   "source": [
    "### Ecrire un programme qui demande un nombre à l'utilisateur, puis qui calcule et affiche le carré de ce nombre."
   ]
  },
  {
   "cell_type": "code",
   "execution_count": 8,
   "metadata": {},
   "outputs": [
    {
     "name": "stdout",
     "output_type": "stream",
     "text": [
      "10\n",
      "100\n"
     ]
    }
   ],
   "source": [
    "A = int(input())\n",
    "\n",
    "print(A * A)"
   ]
  },
  {
   "cell_type": "markdown",
   "metadata": {},
   "source": [
    "##  EXERCICE 1.3"
   ]
  },
  {
   "cell_type": "markdown",
   "metadata": {},
   "source": [
    "### Ecrire un algorithme qui demande un nombre à l'utilisateur et l'informe ensuite si ce nombre est positif ou négatif ( *on laisse de côté le cas où le nombre vaut zéro* )."
   ]
  },
  {
   "cell_type": "code",
   "execution_count": 16,
   "metadata": {},
   "outputs": [
    {
     "name": "stdout",
     "output_type": "stream",
     "text": [
      "-1\n",
      "négatif\n"
     ]
    }
   ],
   "source": [
    "A = int(input())\n",
    "\n",
    "if A >= 0 :\n",
    "    print(\"positif\") \n",
    "else :\n",
    "    print(\"négatif\")\n",
    "    "
   ]
  },
  {
   "cell_type": "markdown",
   "metadata": {},
   "source": [
    "## EXERCICE 1.4"
   ]
  },
  {
   "cell_type": "markdown",
   "metadata": {},
   "source": [
    "### Ecrire un algorithme qui demande deux nombres à l'utilisateur et l'informe ensuite si leurs produit est négatif ou positif ( *on laisse de côté le cas où le produit est nul* ).\n",
    "\n",
    "### Attention toute fois : on ne doit pas calculer le produit de ces deux nombres."
   ]
  },
  {
   "cell_type": "code",
   "execution_count": 2,
   "metadata": {},
   "outputs": [
    {
     "name": "stdout",
     "output_type": "stream",
     "text": [
      "12\n",
      "12\n",
      "positif\n"
     ]
    }
   ],
   "source": [
    "A = int(input())\n",
    "B = int(input())\n",
    "\n",
    "if A * B >= 0 :\n",
    "    print(\"positif\")\n",
    "else :\n",
    "    print(\"Negatif\")"
   ]
  },
  {
   "cell_type": "markdown",
   "metadata": {},
   "source": [
    "## EXERCICE 1.5"
   ]
  },
  {
   "cell_type": "markdown",
   "metadata": {},
   "source": [
    "### Ecrire un algorithme qui demande un nombre de départ et qui ensuite, affiche les dix nombres sauivants.\n",
    "### Par exemple, si l'utilisateur entre le nombre 17, le programme affichera les nombres 18 à 27."
   ]
  },
  {
   "cell_type": "code",
   "execution_count": 16,
   "metadata": {},
   "outputs": [
    {
     "name": "stdout",
     "output_type": "stream",
     "text": [
      "5\n",
      "La 1 itération est : 6\n",
      "La 2 itération est : 7\n",
      "La 3 itération est : 8\n",
      "La 4 itération est : 9\n",
      "La 5 itération est : 10\n",
      "La 6 itération est : 11\n",
      "La 7 itération est : 12\n",
      "La 8 itération est : 13\n",
      "La 9 itération est : 14\n",
      "La 10 itération est : 15\n"
     ]
    }
   ],
   "source": [
    "A = int(input())\n",
    "B = A + 10\n",
    "it = 0\n",
    "while A < B :\n",
    "    A += 1\n",
    "    it += 1\n",
    "    print(\"La {} itération est : {}\".format(it ,A))"
   ]
  },
  {
   "cell_type": "markdown",
   "metadata": {},
   "source": [
    "## EXERCICE 1.6"
   ]
  },
  {
   "cell_type": "markdown",
   "metadata": {},
   "source": [
    "### Ecrire un algorithme qui demande un nombre de départ et qui calcule la somme des entiers jusqu'à ce nombre.\n",
    "### Par exemple, si l'on entre 5, le programme doit calculer : 1 + 2 + 3 + 4 + 5 = 15"
   ]
  },
  {
   "cell_type": "code",
   "execution_count": 26,
   "metadata": {},
   "outputs": [
    {
     "name": "stdout",
     "output_type": "stream",
     "text": [
      "9\n",
      "Le resultat est : 45\n"
     ]
    }
   ],
   "source": [
    "A = int(input())\n",
    "sum = int(0)\n",
    "\n",
    "while A > 0 :\n",
    "    sum += A\n",
    "    A -= 1;\n",
    "print(\"Le resultat est : {}\".format(sum))"
   ]
  },
  {
   "cell_type": "markdown",
   "metadata": {},
   "source": [
    "## EXERCICE 2.1"
   ]
  },
  {
   "cell_type": "markdown",
   "metadata": {},
   "source": [
    "### Ecrire un algorithme calculant la somme des valeurs d'un tableau ( on suppose bien sur que le tableau a été préalablement saisi )"
   ]
  },
  {
   "cell_type": "code",
   "execution_count": 41,
   "metadata": {},
   "outputs": [
    {
     "name": "stdout",
     "output_type": "stream",
     "text": [
      "Somme de la liste : 55\n"
     ]
    }
   ],
   "source": [
    "liste = [1, 2, 3, 4, 5, 6, 7, 8, 9, 10]\n",
    "sum = 0\n",
    "cmp = 0\n",
    "\n",
    "while len(liste) > cmp :\n",
    "    sum += liste[cmp]\n",
    "    cmp += 1\n",
    "\n",
    "print(\"Somme de la liste : {}\".format(sum))"
   ]
  },
  {
   "cell_type": "markdown",
   "metadata": {},
   "source": [
    "## EXERCICE 2.2"
   ]
  },
  {
   "cell_type": "markdown",
   "metadata": {},
   "source": [
    "### Ecrire un algorithme constituant un tableau, à partir de deux tableaux de même longueur préalablement saisis. Le nouveau tableau sera la somme des éléments des deux tableaux de départ."
   ]
  },
  {
   "cell_type": "code",
   "execution_count": 50,
   "metadata": {},
   "outputs": [
    {
     "name": "stdout",
     "output_type": "stream",
     "text": [
      "[5, 7, 9]\n"
     ]
    }
   ],
   "source": [
    "liste1 = [1, 2, 3]\n",
    "liste2 = [4, 5, 6]\n",
    "liste3 = []\n",
    "cmp = 0\n",
    "\n",
    "while (len(liste1) > cmp) :\n",
    "    liste3.append(liste1[cmp] + liste2[cmp])\n",
    "    cmp +=1\n",
    "    \n",
    "print(liste3)"
   ]
  },
  {
   "cell_type": "markdown",
   "metadata": {},
   "source": [
    "## EXERCICE 2.3"
   ]
  },
  {
   "cell_type": "markdown",
   "metadata": {},
   "source": [
    "### Toujours à partir de deux tableaux précédemment saisis, écrire un algorithme qui calcule le 'FacProduct' de deux tableaux. Pour calculer le 'FacProduct', il faut multiplier chaque éléments du tableau 1 par chaques éléments du tableau2 et additionner le tout."
   ]
  },
  {
   "cell_type": "code",
   "execution_count": 9,
   "metadata": {},
   "outputs": [],
   "source": [
    "def fact_prod(liste1 : list, liste2 : list) -> float : \n",
    "    \n",
    "    cmp = 0\n",
    "    sum = 0\n",
    "\n",
    "    while ((len(liste1) > cmp) and (len(liste2) > cmp)) :\n",
    "        sum += (liste1[cmp] * liste2[cmp])\n",
    "        cmp += 1\n",
    "\n",
    "\n",
    "    if (len(liste1) == cmp and len(liste2) > cmp) :\n",
    "        while (len(liste2) > cmp) :\n",
    "            sum += liste2[cmp]\n",
    "            cmp += 1\n",
    "        print(sum)\n",
    "\n",
    "    elif (len(liste2) == cmp and len(liste1) > cmp) :\n",
    "        while (len(liste1) > cmp) :\n",
    "            sum += liste1[cmp]\n",
    "            cmp += 1\n",
    "        print(sum)\n",
    "\n",
    "    else :\n",
    "        print(sum)"
   ]
  },
  {
   "cell_type": "code",
   "execution_count": 10,
   "metadata": {},
   "outputs": [
    {
     "name": "stdout",
     "output_type": "stream",
     "text": [
      "14\n"
     ]
    }
   ],
   "source": [
    "fact_prod([1,2,3], [1,2,3])"
   ]
  },
  {
   "cell_type": "markdown",
   "metadata": {},
   "source": [
    "## EXERCICE 2.4"
   ]
  },
  {
   "cell_type": "markdown",
   "metadata": {},
   "source": [
    "### Ecrire un algorithme permettant à l'utilisateur de saisir un nombre déterminé de valeurs. Le programme, une fois la saisie terminée, renvoie la plus grande valeur en précisant quelle position elle occupe dans le tableau."
   ]
  },
  {
   "cell_type": "code",
   "execution_count": 24,
   "metadata": {},
   "outputs": [],
   "source": [
    "def Biggest_Input() -> float :\n",
    "\n",
    "    liste = []\n",
    "    cmpWhile = 0\n",
    "    cmp = 0\n",
    "    result = 0\n",
    "    \n",
    "    print(\"Entrez les valeurs\")\n",
    "    \n",
    "    while cmpWhile != 5 :\n",
    "        liste.append(int(input(\"entrez un nombre : \")))\n",
    "        cmpWhile += 1\n",
    "\n",
    "    while (len(liste) > cmp) :\n",
    "        if (liste[cmp] > result) :\n",
    "            result = liste[cmp]\n",
    "        cmp += 1\n",
    "\n",
    "    return \"Le nombre le plus élevé est : {}\".format(result)"
   ]
  },
  {
   "cell_type": "code",
   "execution_count": 25,
   "metadata": {},
   "outputs": [
    {
     "name": "stdout",
     "output_type": "stream",
     "text": [
      "Entrez les valeurs\n",
      "entrez un nombre : 2\n",
      "entrez un nombre : 3\n",
      "entrez un nombre : 4\n",
      "entrez un nombre : 5\n",
      "entrez un nombre : 9\n"
     ]
    },
    {
     "data": {
      "text/plain": [
       "'Le nombre le plus élevé est : 9'"
      ]
     },
     "execution_count": 25,
     "metadata": {},
     "output_type": "execute_result"
    }
   ],
   "source": [
    "Biggest_Input()"
   ]
  },
  {
   "cell_type": "markdown",
   "metadata": {},
   "source": [
    "***"
   ]
  },
  {
   "cell_type": "markdown",
   "metadata": {},
   "source": [
    "***"
   ]
  },
  {
   "cell_type": "code",
   "execution_count": null,
   "metadata": {},
   "outputs": [],
   "source": []
  }
 ],
 "metadata": {
  "kernelspec": {
   "display_name": "Python 3",
   "language": "python",
   "name": "python3"
  },
  "language_info": {
   "codemirror_mode": {
    "name": "ipython",
    "version": 3
   },
   "file_extension": ".py",
   "mimetype": "text/x-python",
   "name": "python",
   "nbconvert_exporter": "python",
   "pygments_lexer": "ipython3",
   "version": "3.8.2"
  },
  "toc": {
   "base_numbering": 1,
   "nav_menu": {},
   "number_sections": true,
   "sideBar": true,
   "skip_h1_title": false,
   "title_cell": "Table of Contents",
   "title_sidebar": "Contents",
   "toc_cell": false,
   "toc_position": {},
   "toc_section_display": true,
   "toc_window_display": true
  },
  "varInspector": {
   "cols": {
    "lenName": 16,
    "lenType": 16,
    "lenVar": 40
   },
   "kernels_config": {
    "python": {
     "delete_cmd_postfix": "",
     "delete_cmd_prefix": "del ",
     "library": "var_list.py",
     "varRefreshCmd": "print(var_dic_list())"
    },
    "r": {
     "delete_cmd_postfix": ") ",
     "delete_cmd_prefix": "rm(",
     "library": "var_list.r",
     "varRefreshCmd": "cat(var_dic_list()) "
    }
   },
   "position": {
    "height": "475.35px",
    "left": "1638px",
    "right": "20px",
    "top": "124px",
    "width": "350px"
   },
   "types_to_exclude": [
    "module",
    "function",
    "builtin_function_or_method",
    "instance",
    "_Feature"
   ],
   "window_display": true
  }
 },
 "nbformat": 4,
 "nbformat_minor": 4
}
