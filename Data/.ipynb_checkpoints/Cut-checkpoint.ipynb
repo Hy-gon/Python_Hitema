{
 "cells": [
  {
   "cell_type": "code",
   "execution_count": 1,
   "metadata": {},
   "outputs": [],
   "source": [
    "import pandas as pd\n",
    "\n",
    "fp = \"https://bit.ly/felonies-dataset\""
   ]
  },
  {
   "cell_type": "code",
   "execution_count": 2,
   "metadata": {},
   "outputs": [
    {
     "data": {
      "text/plain": [
       "(1000, 3)"
      ]
     },
     "execution_count": 2,
     "metadata": {},
     "output_type": "execute_result"
    }
   ],
   "source": [
    "df = pd.read_csv(fp)\n",
    "\n",
    "df.shape"
   ]
  },
  {
   "cell_type": "code",
   "execution_count": 3,
   "metadata": {},
   "outputs": [
    {
     "data": {
      "text/plain": [
       "Date of Arrest    object\n",
       "Age                int64\n",
       "Convicted         object\n",
       "dtype: object"
      ]
     },
     "execution_count": 3,
     "metadata": {},
     "output_type": "execute_result"
    }
   ],
   "source": [
    "df.dtypes"
   ]
  },
  {
   "cell_type": "code",
   "execution_count": 4,
   "metadata": {},
   "outputs": [
    {
     "data": {
      "text/html": [
       "<div>\n",
       "<style scoped>\n",
       "    .dataframe tbody tr th:only-of-type {\n",
       "        vertical-align: middle;\n",
       "    }\n",
       "\n",
       "    .dataframe tbody tr th {\n",
       "        vertical-align: top;\n",
       "    }\n",
       "\n",
       "    .dataframe thead th {\n",
       "        text-align: right;\n",
       "    }\n",
       "</style>\n",
       "<table border=\"1\" class=\"dataframe\">\n",
       "  <thead>\n",
       "    <tr style=\"text-align: right;\">\n",
       "      <th></th>\n",
       "      <th>Date of Arrest</th>\n",
       "      <th>Age</th>\n",
       "      <th>Convicted</th>\n",
       "    </tr>\n",
       "  </thead>\n",
       "  <tbody>\n",
       "    <tr>\n",
       "      <th>0</th>\n",
       "      <td>2014-07-16 14:59:18</td>\n",
       "      <td>77</td>\n",
       "      <td>Yes</td>\n",
       "    </tr>\n",
       "    <tr>\n",
       "      <th>1</th>\n",
       "      <td>2002-12-19 22:17:59</td>\n",
       "      <td>28</td>\n",
       "      <td>Yes</td>\n",
       "    </tr>\n",
       "    <tr>\n",
       "      <th>2</th>\n",
       "      <td>1994-06-28 09:31:40</td>\n",
       "      <td>21</td>\n",
       "      <td>No</td>\n",
       "    </tr>\n",
       "    <tr>\n",
       "      <th>3</th>\n",
       "      <td>1985-05-14 09:52:17</td>\n",
       "      <td>45</td>\n",
       "      <td>Yes</td>\n",
       "    </tr>\n",
       "    <tr>\n",
       "      <th>4</th>\n",
       "      <td>1985-05-25 14:06:28</td>\n",
       "      <td>39</td>\n",
       "      <td>Yes</td>\n",
       "    </tr>\n",
       "  </tbody>\n",
       "</table>\n",
       "</div>"
      ],
      "text/plain": [
       "        Date of Arrest  Age Convicted\n",
       "0  2014-07-16 14:59:18   77       Yes\n",
       "1  2002-12-19 22:17:59   28       Yes\n",
       "2  1994-06-28 09:31:40   21        No\n",
       "3  1985-05-14 09:52:17   45       Yes\n",
       "4  1985-05-25 14:06:28   39       Yes"
      ]
     },
     "execution_count": 4,
     "metadata": {},
     "output_type": "execute_result"
    }
   ],
   "source": [
    "df.head()"
   ]
  },
  {
   "cell_type": "code",
   "execution_count": 5,
   "metadata": {},
   "outputs": [
    {
     "data": {
      "text/html": [
       "<div>\n",
       "<style scoped>\n",
       "    .dataframe tbody tr th:only-of-type {\n",
       "        vertical-align: middle;\n",
       "    }\n",
       "\n",
       "    .dataframe tbody tr th {\n",
       "        vertical-align: top;\n",
       "    }\n",
       "\n",
       "    .dataframe thead th {\n",
       "        text-align: right;\n",
       "    }\n",
       "</style>\n",
       "<table border=\"1\" class=\"dataframe\">\n",
       "  <thead>\n",
       "    <tr style=\"text-align: right;\">\n",
       "      <th></th>\n",
       "      <th>Date of Arrest</th>\n",
       "      <th>Age</th>\n",
       "      <th>Convicted</th>\n",
       "    </tr>\n",
       "  </thead>\n",
       "  <tbody>\n",
       "    <tr>\n",
       "      <th>995</th>\n",
       "      <td>1992-02-04 14:24:25</td>\n",
       "      <td>72</td>\n",
       "      <td>Yes</td>\n",
       "    </tr>\n",
       "    <tr>\n",
       "      <th>996</th>\n",
       "      <td>1996-04-29 18:03:23</td>\n",
       "      <td>68</td>\n",
       "      <td>Yes</td>\n",
       "    </tr>\n",
       "    <tr>\n",
       "      <th>997</th>\n",
       "      <td>1980-07-15 21:59:27</td>\n",
       "      <td>87</td>\n",
       "      <td>Yes</td>\n",
       "    </tr>\n",
       "    <tr>\n",
       "      <th>998</th>\n",
       "      <td>1999-07-05 17:16:12</td>\n",
       "      <td>27</td>\n",
       "      <td>No</td>\n",
       "    </tr>\n",
       "    <tr>\n",
       "      <th>999</th>\n",
       "      <td>1996-03-17 18:29:25</td>\n",
       "      <td>57</td>\n",
       "      <td>Yes</td>\n",
       "    </tr>\n",
       "  </tbody>\n",
       "</table>\n",
       "</div>"
      ],
      "text/plain": [
       "          Date of Arrest  Age Convicted\n",
       "995  1992-02-04 14:24:25   72       Yes\n",
       "996  1996-04-29 18:03:23   68       Yes\n",
       "997  1980-07-15 21:59:27   87       Yes\n",
       "998  1999-07-05 17:16:12   27        No\n",
       "999  1996-03-17 18:29:25   57       Yes"
      ]
     },
     "execution_count": 5,
     "metadata": {},
     "output_type": "execute_result"
    }
   ],
   "source": [
    "df.tail()"
   ]
  },
  {
   "cell_type": "code",
   "execution_count": 7,
   "metadata": {},
   "outputs": [
    {
     "data": {
      "text/plain": [
       "count    1000.000000\n",
       "mean       54.605000\n",
       "std        25.225172\n",
       "min        10.000000\n",
       "25%        33.000000\n",
       "50%        53.000000\n",
       "75%        76.000000\n",
       "max        99.000000\n",
       "Name: Age, dtype: float64"
      ]
     },
     "execution_count": 7,
     "metadata": {},
     "output_type": "execute_result"
    }
   ],
   "source": [
    "df['Age'].describe()"
   ]
  },
  {
   "cell_type": "markdown",
   "metadata": {},
   "source": [
    "## Comment transformer une valeur Numérique en Cathégorie ?"
   ]
  },
  {
   "cell_type": "code",
   "execution_count": 11,
   "metadata": {},
   "outputs": [
    {
     "data": {
      "text/plain": [
       "0        Ado\n",
       "1      child\n",
       "2      child\n",
       "3      child\n",
       "4      child\n",
       "       ...  \n",
       "995      Ado\n",
       "996      Ado\n",
       "997      Ado\n",
       "998    child\n",
       "999    child\n",
       "Name: Age, Length: 1000, dtype: category\n",
       "Categories (4, object): ['Senior' < 'Adult' < 'child' < 'Ado']"
      ]
     },
     "execution_count": 11,
     "metadata": {},
     "output_type": "execute_result"
    }
   ],
   "source": [
    "pd.cut(df['Age'], bins = [10, 14, 20, 65, 100],\n",
    "          labels = ({\"child\", \"Ado\", \"Adult\", \"Senior\"}))"
   ]
  },
  {
   "cell_type": "code",
   "execution_count": 13,
   "metadata": {},
   "outputs": [],
   "source": [
    "exo1 = pd.Series(data=[0, 1, 2 ,3])"
   ]
  },
  {
   "cell_type": "code",
   "execution_count": 18,
   "metadata": {},
   "outputs": [
    {
     "data": {
      "text/plain": [
       "0    A\n",
       "1    A\n",
       "2    A\n",
       "3    B\n",
       "dtype: category\n",
       "Categories (2, object): ['A' < 'B']"
      ]
     },
     "execution_count": 18,
     "metadata": {},
     "output_type": "execute_result"
    }
   ],
   "source": [
    "FROM_ZERO = -0.001\n",
    "pd.cut(exo1,\n",
    "      bins=[FROM_ZERO, 2, 3],\n",
    "      labels=[\"A\", \"B\"])"
   ]
  },
  {
   "cell_type": "markdown",
   "metadata": {},
   "source": [
    "### Exo, créer la bins pour le cut"
   ]
  },
  {
   "cell_type": "code",
   "execution_count": 29,
   "metadata": {},
   "outputs": [
    {
     "data": {
      "text/plain": [
       "['tenties',\n",
       " 'twenties',\n",
       " 'thirties',\n",
       " 'fourties',\n",
       " 'fifties',\n",
       " 'sixties',\n",
       " 'seventies',\n",
       " 'eighties',\n",
       " 'nineties']"
      ]
     },
     "execution_count": 29,
     "metadata": {},
     "output_type": "execute_result"
    }
   ],
   "source": [
    "prefix = [\"ten\", \"twen\", \"thir\",\n",
    "         \"four\", \"fif\", \"six\",\n",
    "         \"seven\", \"eigh\", \"nine\"]\n",
    "\n",
    "labels = [p + 'ties' for p in prefix]\n",
    "\n",
    "labels"
   ]
  },
  {
   "cell_type": "code",
   "execution_count": 32,
   "metadata": {},
   "outputs": [],
   "source": [
    "df['decade'] = pd.cut(df['Age'],\n",
    "      bins = [9, 19, 29, 39, 49, 59, 69, 79, 89, 99+1],\n",
    "      labels = labels)"
   ]
  },
  {
   "cell_type": "code",
   "execution_count": 33,
   "metadata": {},
   "outputs": [
    {
     "data": {
      "text/html": [
       "<div>\n",
       "<style scoped>\n",
       "    .dataframe tbody tr th:only-of-type {\n",
       "        vertical-align: middle;\n",
       "    }\n",
       "\n",
       "    .dataframe tbody tr th {\n",
       "        vertical-align: top;\n",
       "    }\n",
       "\n",
       "    .dataframe thead th {\n",
       "        text-align: right;\n",
       "    }\n",
       "</style>\n",
       "<table border=\"1\" class=\"dataframe\">\n",
       "  <thead>\n",
       "    <tr style=\"text-align: right;\">\n",
       "      <th></th>\n",
       "      <th>Date of Arrest</th>\n",
       "      <th>Age</th>\n",
       "      <th>Convicted</th>\n",
       "      <th>decade</th>\n",
       "    </tr>\n",
       "  </thead>\n",
       "  <tbody>\n",
       "    <tr>\n",
       "      <th>0</th>\n",
       "      <td>2014-07-16 14:59:18</td>\n",
       "      <td>77</td>\n",
       "      <td>Yes</td>\n",
       "      <td>seventies</td>\n",
       "    </tr>\n",
       "    <tr>\n",
       "      <th>1</th>\n",
       "      <td>2002-12-19 22:17:59</td>\n",
       "      <td>28</td>\n",
       "      <td>Yes</td>\n",
       "      <td>twenties</td>\n",
       "    </tr>\n",
       "    <tr>\n",
       "      <th>2</th>\n",
       "      <td>1994-06-28 09:31:40</td>\n",
       "      <td>21</td>\n",
       "      <td>No</td>\n",
       "      <td>twenties</td>\n",
       "    </tr>\n",
       "    <tr>\n",
       "      <th>3</th>\n",
       "      <td>1985-05-14 09:52:17</td>\n",
       "      <td>45</td>\n",
       "      <td>Yes</td>\n",
       "      <td>fourties</td>\n",
       "    </tr>\n",
       "    <tr>\n",
       "      <th>4</th>\n",
       "      <td>1985-05-25 14:06:28</td>\n",
       "      <td>39</td>\n",
       "      <td>Yes</td>\n",
       "      <td>thirties</td>\n",
       "    </tr>\n",
       "    <tr>\n",
       "      <th>5</th>\n",
       "      <td>1987-10-04 08:55:26</td>\n",
       "      <td>59</td>\n",
       "      <td>Yes</td>\n",
       "      <td>fifties</td>\n",
       "    </tr>\n",
       "    <tr>\n",
       "      <th>6</th>\n",
       "      <td>1989-11-28 02:26:59</td>\n",
       "      <td>47</td>\n",
       "      <td>Yes</td>\n",
       "      <td>fourties</td>\n",
       "    </tr>\n",
       "    <tr>\n",
       "      <th>7</th>\n",
       "      <td>2004-03-22 12:31:09</td>\n",
       "      <td>51</td>\n",
       "      <td>Yes</td>\n",
       "      <td>fifties</td>\n",
       "    </tr>\n",
       "    <tr>\n",
       "      <th>8</th>\n",
       "      <td>1995-11-01 04:31:18</td>\n",
       "      <td>94</td>\n",
       "      <td>Yes</td>\n",
       "      <td>nineties</td>\n",
       "    </tr>\n",
       "    <tr>\n",
       "      <th>9</th>\n",
       "      <td>2012-02-01 02:48:36</td>\n",
       "      <td>74</td>\n",
       "      <td>Yes</td>\n",
       "      <td>seventies</td>\n",
       "    </tr>\n",
       "  </tbody>\n",
       "</table>\n",
       "</div>"
      ],
      "text/plain": [
       "        Date of Arrest  Age Convicted     decade\n",
       "0  2014-07-16 14:59:18   77       Yes  seventies\n",
       "1  2002-12-19 22:17:59   28       Yes   twenties\n",
       "2  1994-06-28 09:31:40   21        No   twenties\n",
       "3  1985-05-14 09:52:17   45       Yes   fourties\n",
       "4  1985-05-25 14:06:28   39       Yes   thirties\n",
       "5  1987-10-04 08:55:26   59       Yes    fifties\n",
       "6  1989-11-28 02:26:59   47       Yes   fourties\n",
       "7  2004-03-22 12:31:09   51       Yes    fifties\n",
       "8  1995-11-01 04:31:18   94       Yes   nineties\n",
       "9  2012-02-01 02:48:36   74       Yes  seventies"
      ]
     },
     "execution_count": 33,
     "metadata": {},
     "output_type": "execute_result"
    }
   ],
   "source": [
    "df.head(10)"
   ]
  },
  {
   "cell_type": "code",
   "execution_count": null,
   "metadata": {},
   "outputs": [],
   "source": []
  }
 ],
 "metadata": {
  "kernelspec": {
   "display_name": "Python 3",
   "language": "python",
   "name": "python3"
  },
  "language_info": {
   "codemirror_mode": {
    "name": "ipython",
    "version": 3
   },
   "file_extension": ".py",
   "mimetype": "text/x-python",
   "name": "python",
   "nbconvert_exporter": "python",
   "pygments_lexer": "ipython3",
   "version": "3.8.2"
  },
  "toc": {
   "base_numbering": 1,
   "nav_menu": {},
   "number_sections": true,
   "sideBar": true,
   "skip_h1_title": false,
   "title_cell": "Table of Contents",
   "title_sidebar": "Contents",
   "toc_cell": false,
   "toc_position": {},
   "toc_section_display": true,
   "toc_window_display": false
  },
  "varInspector": {
   "cols": {
    "lenName": 16,
    "lenType": 16,
    "lenVar": 40
   },
   "kernels_config": {
    "python": {
     "delete_cmd_postfix": "",
     "delete_cmd_prefix": "del ",
     "library": "var_list.py",
     "varRefreshCmd": "print(var_dic_list())"
    },
    "r": {
     "delete_cmd_postfix": ") ",
     "delete_cmd_prefix": "rm(",
     "library": "var_list.r",
     "varRefreshCmd": "cat(var_dic_list()) "
    }
   },
   "types_to_exclude": [
    "module",
    "function",
    "builtin_function_or_method",
    "instance",
    "_Feature"
   ],
   "window_display": false
  }
 },
 "nbformat": 4,
 "nbformat_minor": 4
}
