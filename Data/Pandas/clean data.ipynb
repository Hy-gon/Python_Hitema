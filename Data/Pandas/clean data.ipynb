{
 "cells": [
  {
   "cell_type": "markdown",
   "metadata": {},
   "source": [
    "## Test"
   ]
  },
  {
   "cell_type": "code",
   "execution_count": 37,
   "metadata": {},
   "outputs": [],
   "source": [
    "import pandas as pd\n",
    "\n",
    "fp = \"https://bit.ly/bitcoin-purchases2\""
   ]
  },
  {
   "cell_type": "code",
   "execution_count": 38,
   "metadata": {},
   "outputs": [],
   "source": [
    "data = pd.read_csv(fp)"
   ]
  },
  {
   "cell_type": "code",
   "execution_count": 5,
   "metadata": {},
   "outputs": [
    {
     "data": {
      "text/html": [
       "<div>\n",
       "<style scoped>\n",
       "    .dataframe tbody tr th:only-of-type {\n",
       "        vertical-align: middle;\n",
       "    }\n",
       "\n",
       "    .dataframe tbody tr th {\n",
       "        vertical-align: top;\n",
       "    }\n",
       "\n",
       "    .dataframe thead th {\n",
       "        text-align: right;\n",
       "    }\n",
       "</style>\n",
       "<table border=\"1\" class=\"dataframe\">\n",
       "  <thead>\n",
       "    <tr style=\"text-align: right;\">\n",
       "      <th></th>\n",
       "      <th>bitcoin address</th>\n",
       "      <th>wire amount</th>\n",
       "      <th>credit card</th>\n",
       "    </tr>\n",
       "  </thead>\n",
       "  <tbody>\n",
       "    <tr>\n",
       "      <th>0</th>\n",
       "      <td>1J9DVMtgvnPv4KGHL2XSzoTSt5cBBL1DXe</td>\n",
       "      <td>£8356.92</td>\n",
       "      <td>3543456448666398</td>\n",
       "    </tr>\n",
       "    <tr>\n",
       "      <th>1</th>\n",
       "      <td>1HaiVQbzCTs7t1K1fckYEUi9t8ERBFRR7Q</td>\n",
       "      <td>€311,06</td>\n",
       "      <td>3584615208479876</td>\n",
       "    </tr>\n",
       "    <tr>\n",
       "      <th>2</th>\n",
       "      <td>1NGPjXfDScEUSZYajAzCkxaVApTbBHC7jP</td>\n",
       "      <td>€2032,44</td>\n",
       "      <td>6370577480710876</td>\n",
       "    </tr>\n",
       "    <tr>\n",
       "      <th>3</th>\n",
       "      <td>15cSYRTbcrxYinxNxk7VbkPLZG8nypdjy6</td>\n",
       "      <td>¥8155.74</td>\n",
       "      <td>4508652385157398</td>\n",
       "    </tr>\n",
       "    <tr>\n",
       "      <th>4</th>\n",
       "      <td>18j2qG1DH9YduJiBiccAq8Ak897G3E4JyZ</td>\n",
       "      <td>£3265.44</td>\n",
       "      <td>374622922103592</td>\n",
       "    </tr>\n",
       "    <tr>\n",
       "      <th>...</th>\n",
       "      <td>...</td>\n",
       "      <td>...</td>\n",
       "      <td>...</td>\n",
       "    </tr>\n",
       "    <tr>\n",
       "      <th>995</th>\n",
       "      <td>1Jmz4FMQENDkrtkivVdXM8SiC6ZCJVTDhp</td>\n",
       "      <td>¥844.68</td>\n",
       "      <td>5541649583285688</td>\n",
       "    </tr>\n",
       "    <tr>\n",
       "      <th>996</th>\n",
       "      <td>1GCZKgPV9277czn1RsTYoubCwhbndUvPZU</td>\n",
       "      <td>€1433,63</td>\n",
       "      <td>6304232254235660027</td>\n",
       "    </tr>\n",
       "    <tr>\n",
       "      <th>997</th>\n",
       "      <td>1LK2DsWBUmSAsqg7n46sdgg4v2SNrqEPM</td>\n",
       "      <td>€3814,11</td>\n",
       "      <td>3546750658508135</td>\n",
       "    </tr>\n",
       "    <tr>\n",
       "      <th>998</th>\n",
       "      <td>1PD6oNfFEnxMsR1PvUvkjHQdHYLCewLJhq</td>\n",
       "      <td>$2900.85</td>\n",
       "      <td>6333272716093574938</td>\n",
       "    </tr>\n",
       "    <tr>\n",
       "      <th>999</th>\n",
       "      <td>1B2vk6p7usuV4dfrBMLo8Rzpb5NatTmE8R</td>\n",
       "      <td>$1587.16</td>\n",
       "      <td>4913614335644981</td>\n",
       "    </tr>\n",
       "  </tbody>\n",
       "</table>\n",
       "<p>1000 rows × 3 columns</p>\n",
       "</div>"
      ],
      "text/plain": [
       "                        bitcoin address wire amount          credit card\n",
       "0    1J9DVMtgvnPv4KGHL2XSzoTSt5cBBL1DXe    £8356.92     3543456448666398\n",
       "1    1HaiVQbzCTs7t1K1fckYEUi9t8ERBFRR7Q     €311,06     3584615208479876\n",
       "2    1NGPjXfDScEUSZYajAzCkxaVApTbBHC7jP    €2032,44     6370577480710876\n",
       "3    15cSYRTbcrxYinxNxk7VbkPLZG8nypdjy6    ¥8155.74     4508652385157398\n",
       "4    18j2qG1DH9YduJiBiccAq8Ak897G3E4JyZ    £3265.44      374622922103592\n",
       "..                                  ...         ...                  ...\n",
       "995  1Jmz4FMQENDkrtkivVdXM8SiC6ZCJVTDhp     ¥844.68     5541649583285688\n",
       "996  1GCZKgPV9277czn1RsTYoubCwhbndUvPZU    €1433,63  6304232254235660027\n",
       "997   1LK2DsWBUmSAsqg7n46sdgg4v2SNrqEPM    €3814,11     3546750658508135\n",
       "998  1PD6oNfFEnxMsR1PvUvkjHQdHYLCewLJhq    $2900.85  6333272716093574938\n",
       "999  1B2vk6p7usuV4dfrBMLo8Rzpb5NatTmE8R    $1587.16     4913614335644981\n",
       "\n",
       "[1000 rows x 3 columns]"
      ]
     },
     "execution_count": 5,
     "metadata": {},
     "output_type": "execute_result"
    }
   ],
   "source": [
    "data"
   ]
  },
  {
   "cell_type": "code",
   "execution_count": 6,
   "metadata": {},
   "outputs": [
    {
     "data": {
      "text/plain": [
       "bitcoin address    object\n",
       "wire amount        object\n",
       "credit card         int64\n",
       "dtype: object"
      ]
     },
     "execution_count": 6,
     "metadata": {},
     "output_type": "execute_result"
    }
   ],
   "source": [
    "data.dtypes"
   ]
  },
  {
   "cell_type": "code",
   "execution_count": 39,
   "metadata": {},
   "outputs": [],
   "source": [
    "data['wire amount'] = data['wire amount'].str.replace(',', '.')"
   ]
  },
  {
   "cell_type": "code",
   "execution_count": 25,
   "metadata": {},
   "outputs": [
    {
     "data": {
      "text/html": [
       "<div>\n",
       "<style scoped>\n",
       "    .dataframe tbody tr th:only-of-type {\n",
       "        vertical-align: middle;\n",
       "    }\n",
       "\n",
       "    .dataframe tbody tr th {\n",
       "        vertical-align: top;\n",
       "    }\n",
       "\n",
       "    .dataframe thead th {\n",
       "        text-align: right;\n",
       "    }\n",
       "</style>\n",
       "<table border=\"1\" class=\"dataframe\">\n",
       "  <thead>\n",
       "    <tr style=\"text-align: right;\">\n",
       "      <th></th>\n",
       "      <th>bitcoin address</th>\n",
       "      <th>wire amount</th>\n",
       "      <th>credit card</th>\n",
       "    </tr>\n",
       "  </thead>\n",
       "  <tbody>\n",
       "    <tr>\n",
       "      <th>0</th>\n",
       "      <td>1J9DVMtgvnPv4KGHL2XSzoTSt5cBBL1DXe</td>\n",
       "      <td>£8356.92</td>\n",
       "      <td>3543456448666398</td>\n",
       "    </tr>\n",
       "    <tr>\n",
       "      <th>1</th>\n",
       "      <td>1HaiVQbzCTs7t1K1fckYEUi9t8ERBFRR7Q</td>\n",
       "      <td>€311.06</td>\n",
       "      <td>3584615208479876</td>\n",
       "    </tr>\n",
       "    <tr>\n",
       "      <th>2</th>\n",
       "      <td>1NGPjXfDScEUSZYajAzCkxaVApTbBHC7jP</td>\n",
       "      <td>€2032.44</td>\n",
       "      <td>6370577480710876</td>\n",
       "    </tr>\n",
       "    <tr>\n",
       "      <th>3</th>\n",
       "      <td>15cSYRTbcrxYinxNxk7VbkPLZG8nypdjy6</td>\n",
       "      <td>¥8155.74</td>\n",
       "      <td>4508652385157398</td>\n",
       "    </tr>\n",
       "    <tr>\n",
       "      <th>4</th>\n",
       "      <td>18j2qG1DH9YduJiBiccAq8Ak897G3E4JyZ</td>\n",
       "      <td>£3265.44</td>\n",
       "      <td>374622922103592</td>\n",
       "    </tr>\n",
       "    <tr>\n",
       "      <th>...</th>\n",
       "      <td>...</td>\n",
       "      <td>...</td>\n",
       "      <td>...</td>\n",
       "    </tr>\n",
       "    <tr>\n",
       "      <th>995</th>\n",
       "      <td>1Jmz4FMQENDkrtkivVdXM8SiC6ZCJVTDhp</td>\n",
       "      <td>¥844.68</td>\n",
       "      <td>5541649583285688</td>\n",
       "    </tr>\n",
       "    <tr>\n",
       "      <th>996</th>\n",
       "      <td>1GCZKgPV9277czn1RsTYoubCwhbndUvPZU</td>\n",
       "      <td>€1433.63</td>\n",
       "      <td>6304232254235660027</td>\n",
       "    </tr>\n",
       "    <tr>\n",
       "      <th>997</th>\n",
       "      <td>1LK2DsWBUmSAsqg7n46sdgg4v2SNrqEPM</td>\n",
       "      <td>€3814.11</td>\n",
       "      <td>3546750658508135</td>\n",
       "    </tr>\n",
       "    <tr>\n",
       "      <th>998</th>\n",
       "      <td>1PD6oNfFEnxMsR1PvUvkjHQdHYLCewLJhq</td>\n",
       "      <td>$2900.85</td>\n",
       "      <td>6333272716093574938</td>\n",
       "    </tr>\n",
       "    <tr>\n",
       "      <th>999</th>\n",
       "      <td>1B2vk6p7usuV4dfrBMLo8Rzpb5NatTmE8R</td>\n",
       "      <td>$1587.16</td>\n",
       "      <td>4913614335644981</td>\n",
       "    </tr>\n",
       "  </tbody>\n",
       "</table>\n",
       "<p>1000 rows × 3 columns</p>\n",
       "</div>"
      ],
      "text/plain": [
       "                        bitcoin address wire amount          credit card\n",
       "0    1J9DVMtgvnPv4KGHL2XSzoTSt5cBBL1DXe    £8356.92     3543456448666398\n",
       "1    1HaiVQbzCTs7t1K1fckYEUi9t8ERBFRR7Q     €311.06     3584615208479876\n",
       "2    1NGPjXfDScEUSZYajAzCkxaVApTbBHC7jP    €2032.44     6370577480710876\n",
       "3    15cSYRTbcrxYinxNxk7VbkPLZG8nypdjy6    ¥8155.74     4508652385157398\n",
       "4    18j2qG1DH9YduJiBiccAq8Ak897G3E4JyZ    £3265.44      374622922103592\n",
       "..                                  ...         ...                  ...\n",
       "995  1Jmz4FMQENDkrtkivVdXM8SiC6ZCJVTDhp     ¥844.68     5541649583285688\n",
       "996  1GCZKgPV9277czn1RsTYoubCwhbndUvPZU    €1433.63  6304232254235660027\n",
       "997   1LK2DsWBUmSAsqg7n46sdgg4v2SNrqEPM    €3814.11     3546750658508135\n",
       "998  1PD6oNfFEnxMsR1PvUvkjHQdHYLCewLJhq    $2900.85  6333272716093574938\n",
       "999  1B2vk6p7usuV4dfrBMLo8Rzpb5NatTmE8R    $1587.16     4913614335644981\n",
       "\n",
       "[1000 rows x 3 columns]"
      ]
     },
     "execution_count": 25,
     "metadata": {},
     "output_type": "execute_result"
    }
   ],
   "source": [
    "data"
   ]
  },
  {
   "cell_type": "markdown",
   "metadata": {},
   "source": [
    "### Séparer la devise"
   ]
  },
  {
   "cell_type": "code",
   "execution_count": 40,
   "metadata": {},
   "outputs": [],
   "source": [
    "data['devise'] = data['wire amount'].str.get(0)\n",
    "\n",
    "data['wire amount'] = data['wire amount'].str.slice(1, None)"
   ]
  },
  {
   "cell_type": "code",
   "execution_count": 41,
   "metadata": {},
   "outputs": [
    {
     "data": {
      "text/html": [
       "<div>\n",
       "<style scoped>\n",
       "    .dataframe tbody tr th:only-of-type {\n",
       "        vertical-align: middle;\n",
       "    }\n",
       "\n",
       "    .dataframe tbody tr th {\n",
       "        vertical-align: top;\n",
       "    }\n",
       "\n",
       "    .dataframe thead th {\n",
       "        text-align: right;\n",
       "    }\n",
       "</style>\n",
       "<table border=\"1\" class=\"dataframe\">\n",
       "  <thead>\n",
       "    <tr style=\"text-align: right;\">\n",
       "      <th></th>\n",
       "      <th>bitcoin address</th>\n",
       "      <th>wire amount</th>\n",
       "      <th>credit card</th>\n",
       "      <th>devise</th>\n",
       "    </tr>\n",
       "  </thead>\n",
       "  <tbody>\n",
       "    <tr>\n",
       "      <th>0</th>\n",
       "      <td>1J9DVMtgvnPv4KGHL2XSzoTSt5cBBL1DXe</td>\n",
       "      <td>8356.92</td>\n",
       "      <td>3543456448666398</td>\n",
       "      <td>£</td>\n",
       "    </tr>\n",
       "    <tr>\n",
       "      <th>1</th>\n",
       "      <td>1HaiVQbzCTs7t1K1fckYEUi9t8ERBFRR7Q</td>\n",
       "      <td>311.06</td>\n",
       "      <td>3584615208479876</td>\n",
       "      <td>€</td>\n",
       "    </tr>\n",
       "    <tr>\n",
       "      <th>2</th>\n",
       "      <td>1NGPjXfDScEUSZYajAzCkxaVApTbBHC7jP</td>\n",
       "      <td>2032.44</td>\n",
       "      <td>6370577480710876</td>\n",
       "      <td>€</td>\n",
       "    </tr>\n",
       "    <tr>\n",
       "      <th>3</th>\n",
       "      <td>15cSYRTbcrxYinxNxk7VbkPLZG8nypdjy6</td>\n",
       "      <td>8155.74</td>\n",
       "      <td>4508652385157398</td>\n",
       "      <td>¥</td>\n",
       "    </tr>\n",
       "    <tr>\n",
       "      <th>4</th>\n",
       "      <td>18j2qG1DH9YduJiBiccAq8Ak897G3E4JyZ</td>\n",
       "      <td>3265.44</td>\n",
       "      <td>374622922103592</td>\n",
       "      <td>£</td>\n",
       "    </tr>\n",
       "    <tr>\n",
       "      <th>...</th>\n",
       "      <td>...</td>\n",
       "      <td>...</td>\n",
       "      <td>...</td>\n",
       "      <td>...</td>\n",
       "    </tr>\n",
       "    <tr>\n",
       "      <th>995</th>\n",
       "      <td>1Jmz4FMQENDkrtkivVdXM8SiC6ZCJVTDhp</td>\n",
       "      <td>844.68</td>\n",
       "      <td>5541649583285688</td>\n",
       "      <td>¥</td>\n",
       "    </tr>\n",
       "    <tr>\n",
       "      <th>996</th>\n",
       "      <td>1GCZKgPV9277czn1RsTYoubCwhbndUvPZU</td>\n",
       "      <td>1433.63</td>\n",
       "      <td>6304232254235660027</td>\n",
       "      <td>€</td>\n",
       "    </tr>\n",
       "    <tr>\n",
       "      <th>997</th>\n",
       "      <td>1LK2DsWBUmSAsqg7n46sdgg4v2SNrqEPM</td>\n",
       "      <td>3814.11</td>\n",
       "      <td>3546750658508135</td>\n",
       "      <td>€</td>\n",
       "    </tr>\n",
       "    <tr>\n",
       "      <th>998</th>\n",
       "      <td>1PD6oNfFEnxMsR1PvUvkjHQdHYLCewLJhq</td>\n",
       "      <td>2900.85</td>\n",
       "      <td>6333272716093574938</td>\n",
       "      <td>$</td>\n",
       "    </tr>\n",
       "    <tr>\n",
       "      <th>999</th>\n",
       "      <td>1B2vk6p7usuV4dfrBMLo8Rzpb5NatTmE8R</td>\n",
       "      <td>1587.16</td>\n",
       "      <td>4913614335644981</td>\n",
       "      <td>$</td>\n",
       "    </tr>\n",
       "  </tbody>\n",
       "</table>\n",
       "<p>1000 rows × 4 columns</p>\n",
       "</div>"
      ],
      "text/plain": [
       "                        bitcoin address wire amount          credit card  \\\n",
       "0    1J9DVMtgvnPv4KGHL2XSzoTSt5cBBL1DXe     8356.92     3543456448666398   \n",
       "1    1HaiVQbzCTs7t1K1fckYEUi9t8ERBFRR7Q      311.06     3584615208479876   \n",
       "2    1NGPjXfDScEUSZYajAzCkxaVApTbBHC7jP     2032.44     6370577480710876   \n",
       "3    15cSYRTbcrxYinxNxk7VbkPLZG8nypdjy6     8155.74     4508652385157398   \n",
       "4    18j2qG1DH9YduJiBiccAq8Ak897G3E4JyZ     3265.44      374622922103592   \n",
       "..                                  ...         ...                  ...   \n",
       "995  1Jmz4FMQENDkrtkivVdXM8SiC6ZCJVTDhp      844.68     5541649583285688   \n",
       "996  1GCZKgPV9277czn1RsTYoubCwhbndUvPZU     1433.63  6304232254235660027   \n",
       "997   1LK2DsWBUmSAsqg7n46sdgg4v2SNrqEPM     3814.11     3546750658508135   \n",
       "998  1PD6oNfFEnxMsR1PvUvkjHQdHYLCewLJhq     2900.85  6333272716093574938   \n",
       "999  1B2vk6p7usuV4dfrBMLo8Rzpb5NatTmE8R     1587.16     4913614335644981   \n",
       "\n",
       "    devise  \n",
       "0        £  \n",
       "1        €  \n",
       "2        €  \n",
       "3        ¥  \n",
       "4        £  \n",
       "..     ...  \n",
       "995      ¥  \n",
       "996      €  \n",
       "997      €  \n",
       "998      $  \n",
       "999      $  \n",
       "\n",
       "[1000 rows x 4 columns]"
      ]
     },
     "execution_count": 41,
     "metadata": {},
     "output_type": "execute_result"
    }
   ],
   "source": [
    "data"
   ]
  },
  {
   "cell_type": "markdown",
   "metadata": {},
   "source": [
    "### Conversation Object -> Float"
   ]
  },
  {
   "cell_type": "code",
   "execution_count": 34,
   "metadata": {},
   "outputs": [
    {
     "data": {
      "text/plain": [
       "bitcoin address     object\n",
       "wire amount        float64\n",
       "credit card          int64\n",
       "devise              object\n",
       "dtype: object"
      ]
     },
     "execution_count": 34,
     "metadata": {},
     "output_type": "execute_result"
    }
   ],
   "source": [
    "data.dtypes"
   ]
  },
  {
   "cell_type": "code",
   "execution_count": 42,
   "metadata": {},
   "outputs": [],
   "source": [
    "data['wire amount'] = data['wire amount'].astype('float')"
   ]
  },
  {
   "cell_type": "code",
   "execution_count": 43,
   "metadata": {},
   "outputs": [
    {
     "data": {
      "text/html": [
       "<div>\n",
       "<style scoped>\n",
       "    .dataframe tbody tr th:only-of-type {\n",
       "        vertical-align: middle;\n",
       "    }\n",
       "\n",
       "    .dataframe tbody tr th {\n",
       "        vertical-align: top;\n",
       "    }\n",
       "\n",
       "    .dataframe thead th {\n",
       "        text-align: right;\n",
       "    }\n",
       "</style>\n",
       "<table border=\"1\" class=\"dataframe\">\n",
       "  <thead>\n",
       "    <tr style=\"text-align: right;\">\n",
       "      <th></th>\n",
       "      <th>bitcoin address</th>\n",
       "      <th>wire amount</th>\n",
       "      <th>credit card</th>\n",
       "      <th>devise</th>\n",
       "    </tr>\n",
       "  </thead>\n",
       "  <tbody>\n",
       "    <tr>\n",
       "      <th>0</th>\n",
       "      <td>1J9DVMtgvnPv4KGHL2XSzoTSt5cBBL1DXe</td>\n",
       "      <td>8356.92</td>\n",
       "      <td>3543456448666398</td>\n",
       "      <td>£</td>\n",
       "    </tr>\n",
       "    <tr>\n",
       "      <th>1</th>\n",
       "      <td>1HaiVQbzCTs7t1K1fckYEUi9t8ERBFRR7Q</td>\n",
       "      <td>311.06</td>\n",
       "      <td>3584615208479876</td>\n",
       "      <td>€</td>\n",
       "    </tr>\n",
       "    <tr>\n",
       "      <th>2</th>\n",
       "      <td>1NGPjXfDScEUSZYajAzCkxaVApTbBHC7jP</td>\n",
       "      <td>2032.44</td>\n",
       "      <td>6370577480710876</td>\n",
       "      <td>€</td>\n",
       "    </tr>\n",
       "    <tr>\n",
       "      <th>3</th>\n",
       "      <td>15cSYRTbcrxYinxNxk7VbkPLZG8nypdjy6</td>\n",
       "      <td>8155.74</td>\n",
       "      <td>4508652385157398</td>\n",
       "      <td>¥</td>\n",
       "    </tr>\n",
       "    <tr>\n",
       "      <th>4</th>\n",
       "      <td>18j2qG1DH9YduJiBiccAq8Ak897G3E4JyZ</td>\n",
       "      <td>3265.44</td>\n",
       "      <td>374622922103592</td>\n",
       "      <td>£</td>\n",
       "    </tr>\n",
       "    <tr>\n",
       "      <th>...</th>\n",
       "      <td>...</td>\n",
       "      <td>...</td>\n",
       "      <td>...</td>\n",
       "      <td>...</td>\n",
       "    </tr>\n",
       "    <tr>\n",
       "      <th>995</th>\n",
       "      <td>1Jmz4FMQENDkrtkivVdXM8SiC6ZCJVTDhp</td>\n",
       "      <td>844.68</td>\n",
       "      <td>5541649583285688</td>\n",
       "      <td>¥</td>\n",
       "    </tr>\n",
       "    <tr>\n",
       "      <th>996</th>\n",
       "      <td>1GCZKgPV9277czn1RsTYoubCwhbndUvPZU</td>\n",
       "      <td>1433.63</td>\n",
       "      <td>6304232254235660027</td>\n",
       "      <td>€</td>\n",
       "    </tr>\n",
       "    <tr>\n",
       "      <th>997</th>\n",
       "      <td>1LK2DsWBUmSAsqg7n46sdgg4v2SNrqEPM</td>\n",
       "      <td>3814.11</td>\n",
       "      <td>3546750658508135</td>\n",
       "      <td>€</td>\n",
       "    </tr>\n",
       "    <tr>\n",
       "      <th>998</th>\n",
       "      <td>1PD6oNfFEnxMsR1PvUvkjHQdHYLCewLJhq</td>\n",
       "      <td>2900.85</td>\n",
       "      <td>6333272716093574938</td>\n",
       "      <td>$</td>\n",
       "    </tr>\n",
       "    <tr>\n",
       "      <th>999</th>\n",
       "      <td>1B2vk6p7usuV4dfrBMLo8Rzpb5NatTmE8R</td>\n",
       "      <td>1587.16</td>\n",
       "      <td>4913614335644981</td>\n",
       "      <td>$</td>\n",
       "    </tr>\n",
       "  </tbody>\n",
       "</table>\n",
       "<p>1000 rows × 4 columns</p>\n",
       "</div>"
      ],
      "text/plain": [
       "                        bitcoin address  wire amount          credit card  \\\n",
       "0    1J9DVMtgvnPv4KGHL2XSzoTSt5cBBL1DXe      8356.92     3543456448666398   \n",
       "1    1HaiVQbzCTs7t1K1fckYEUi9t8ERBFRR7Q       311.06     3584615208479876   \n",
       "2    1NGPjXfDScEUSZYajAzCkxaVApTbBHC7jP      2032.44     6370577480710876   \n",
       "3    15cSYRTbcrxYinxNxk7VbkPLZG8nypdjy6      8155.74     4508652385157398   \n",
       "4    18j2qG1DH9YduJiBiccAq8Ak897G3E4JyZ      3265.44      374622922103592   \n",
       "..                                  ...          ...                  ...   \n",
       "995  1Jmz4FMQENDkrtkivVdXM8SiC6ZCJVTDhp       844.68     5541649583285688   \n",
       "996  1GCZKgPV9277czn1RsTYoubCwhbndUvPZU      1433.63  6304232254235660027   \n",
       "997   1LK2DsWBUmSAsqg7n46sdgg4v2SNrqEPM      3814.11     3546750658508135   \n",
       "998  1PD6oNfFEnxMsR1PvUvkjHQdHYLCewLJhq      2900.85  6333272716093574938   \n",
       "999  1B2vk6p7usuV4dfrBMLo8Rzpb5NatTmE8R      1587.16     4913614335644981   \n",
       "\n",
       "    devise  \n",
       "0        £  \n",
       "1        €  \n",
       "2        €  \n",
       "3        ¥  \n",
       "4        £  \n",
       "..     ...  \n",
       "995      ¥  \n",
       "996      €  \n",
       "997      €  \n",
       "998      $  \n",
       "999      $  \n",
       "\n",
       "[1000 rows x 4 columns]"
      ]
     },
     "execution_count": 43,
     "metadata": {},
     "output_type": "execute_result"
    }
   ],
   "source": [
    "data"
   ]
  },
  {
   "cell_type": "code",
   "execution_count": 44,
   "metadata": {},
   "outputs": [
    {
     "data": {
      "text/plain": [
       "bitcoin address     object\n",
       "wire amount        float64\n",
       "credit card          int64\n",
       "devise              object\n",
       "dtype: object"
      ]
     },
     "execution_count": 44,
     "metadata": {},
     "output_type": "execute_result"
    }
   ],
   "source": [
    "data.dtypes"
   ]
  },
  {
   "cell_type": "markdown",
   "metadata": {},
   "source": [
    "___"
   ]
  },
  {
   "cell_type": "markdown",
   "metadata": {},
   "source": [
    "___"
   ]
  },
  {
   "cell_type": "markdown",
   "metadata": {},
   "source": [
    "## Exercice"
   ]
  },
  {
   "cell_type": "code",
   "execution_count": 144,
   "metadata": {},
   "outputs": [],
   "source": [
    "import random\n",
    "import pandas as pd\n",
    "\n",
    "def makeNumberStrRandSign(sep=[','], signs=['€', '$']):\n",
    "    avant = str(random.randint(1, 1000))\n",
    "    apres = '{:02}'.format(random.randint(0,99))\n",
    "    sep = random.choice(sep)\n",
    "    sign = random.choice(signs)\n",
    "    return avant + sep + apres + sign\n",
    "\n",
    "col1 = [makeNumberStrRandSign() for _ in range(200)]\n",
    "col2 = [makeNumberStrRandSign(['.', ',']) for _ in range(200)]\n",
    "\n",
    "exo2 = pd.DataFrame(data={\"col1\":col1,\n",
    "                         \"col2\":col2})"
   ]
  },
  {
   "cell_type": "markdown",
   "metadata": {},
   "source": [
    "### 1/ Retravailler la collone pour que toutes les entrées soient castables en INT ou FLOAT <br> 2/ Effectuer la conersation de votre choix avec astype(int) ou astype(float)"
   ]
  },
  {
   "cell_type": "code",
   "execution_count": 145,
   "metadata": {},
   "outputs": [],
   "source": [
    "exo2['col1'] = exo2['col1'].str.replace(',', '.')\n",
    "exo2['col2'] = exo2['col2'].str.replace(',', '.')\n",
    "\n",
    "exo2['Devise col1'] = exo2['col1'].str.get(-1)\n",
    "exo2['col1'] = exo2['col1'].str.slice(None, -1).astype(\"float\")\n",
    "\n",
    "exo2['Devise col2'] = exo2['col2'].str.get(-1)\n",
    "exo2['col2'] = exo2['col2'].str.slice(None, -1).astype(\"float\")"
   ]
  },
  {
   "cell_type": "code",
   "execution_count": 146,
   "metadata": {},
   "outputs": [
    {
     "data": {
      "text/html": [
       "<div>\n",
       "<style scoped>\n",
       "    .dataframe tbody tr th:only-of-type {\n",
       "        vertical-align: middle;\n",
       "    }\n",
       "\n",
       "    .dataframe tbody tr th {\n",
       "        vertical-align: top;\n",
       "    }\n",
       "\n",
       "    .dataframe thead th {\n",
       "        text-align: right;\n",
       "    }\n",
       "</style>\n",
       "<table border=\"1\" class=\"dataframe\">\n",
       "  <thead>\n",
       "    <tr style=\"text-align: right;\">\n",
       "      <th></th>\n",
       "      <th>col1</th>\n",
       "      <th>col2</th>\n",
       "      <th>Devise col1</th>\n",
       "      <th>Devise col2</th>\n",
       "    </tr>\n",
       "  </thead>\n",
       "  <tbody>\n",
       "    <tr>\n",
       "      <th>0</th>\n",
       "      <td>891.56</td>\n",
       "      <td>791.18</td>\n",
       "      <td>€</td>\n",
       "      <td>€</td>\n",
       "    </tr>\n",
       "    <tr>\n",
       "      <th>1</th>\n",
       "      <td>968.21</td>\n",
       "      <td>383.43</td>\n",
       "      <td>$</td>\n",
       "      <td>€</td>\n",
       "    </tr>\n",
       "    <tr>\n",
       "      <th>2</th>\n",
       "      <td>60.81</td>\n",
       "      <td>935.90</td>\n",
       "      <td>€</td>\n",
       "      <td>€</td>\n",
       "    </tr>\n",
       "    <tr>\n",
       "      <th>3</th>\n",
       "      <td>597.09</td>\n",
       "      <td>101.90</td>\n",
       "      <td>$</td>\n",
       "      <td>€</td>\n",
       "    </tr>\n",
       "    <tr>\n",
       "      <th>4</th>\n",
       "      <td>921.40</td>\n",
       "      <td>240.62</td>\n",
       "      <td>€</td>\n",
       "      <td>$</td>\n",
       "    </tr>\n",
       "    <tr>\n",
       "      <th>...</th>\n",
       "      <td>...</td>\n",
       "      <td>...</td>\n",
       "      <td>...</td>\n",
       "      <td>...</td>\n",
       "    </tr>\n",
       "    <tr>\n",
       "      <th>195</th>\n",
       "      <td>435.76</td>\n",
       "      <td>218.31</td>\n",
       "      <td>$</td>\n",
       "      <td>$</td>\n",
       "    </tr>\n",
       "    <tr>\n",
       "      <th>196</th>\n",
       "      <td>186.53</td>\n",
       "      <td>95.74</td>\n",
       "      <td>€</td>\n",
       "      <td>$</td>\n",
       "    </tr>\n",
       "    <tr>\n",
       "      <th>197</th>\n",
       "      <td>831.61</td>\n",
       "      <td>625.73</td>\n",
       "      <td>€</td>\n",
       "      <td>$</td>\n",
       "    </tr>\n",
       "    <tr>\n",
       "      <th>198</th>\n",
       "      <td>467.63</td>\n",
       "      <td>887.86</td>\n",
       "      <td>€</td>\n",
       "      <td>€</td>\n",
       "    </tr>\n",
       "    <tr>\n",
       "      <th>199</th>\n",
       "      <td>817.13</td>\n",
       "      <td>526.22</td>\n",
       "      <td>$</td>\n",
       "      <td>€</td>\n",
       "    </tr>\n",
       "  </tbody>\n",
       "</table>\n",
       "<p>200 rows × 4 columns</p>\n",
       "</div>"
      ],
      "text/plain": [
       "       col1    col2 Devise col1 Devise col2\n",
       "0    891.56  791.18           €           €\n",
       "1    968.21  383.43           $           €\n",
       "2     60.81  935.90           €           €\n",
       "3    597.09  101.90           $           €\n",
       "4    921.40  240.62           €           $\n",
       "..      ...     ...         ...         ...\n",
       "195  435.76  218.31           $           $\n",
       "196  186.53   95.74           €           $\n",
       "197  831.61  625.73           €           $\n",
       "198  467.63  887.86           €           €\n",
       "199  817.13  526.22           $           €\n",
       "\n",
       "[200 rows x 4 columns]"
      ]
     },
     "execution_count": 146,
     "metadata": {},
     "output_type": "execute_result"
    }
   ],
   "source": [
    "exo2"
   ]
  },
  {
   "cell_type": "code",
   "execution_count": 147,
   "metadata": {},
   "outputs": [
    {
     "data": {
      "text/plain": [
       "col1           float64\n",
       "col2           float64\n",
       "Devise col1     object\n",
       "Devise col2     object\n",
       "dtype: object"
      ]
     },
     "execution_count": 147,
     "metadata": {},
     "output_type": "execute_result"
    }
   ],
   "source": [
    "exo2.dtypes"
   ]
  },
  {
   "cell_type": "code",
   "execution_count": null,
   "metadata": {},
   "outputs": [],
   "source": []
  }
 ],
 "metadata": {
  "kernelspec": {
   "display_name": "Python 3",
   "language": "python",
   "name": "python3"
  },
  "language_info": {
   "codemirror_mode": {
    "name": "ipython",
    "version": 3
   },
   "file_extension": ".py",
   "mimetype": "text/x-python",
   "name": "python",
   "nbconvert_exporter": "python",
   "pygments_lexer": "ipython3",
   "version": "3.8.5"
  },
  "toc": {
   "base_numbering": 1,
   "nav_menu": {},
   "number_sections": true,
   "sideBar": true,
   "skip_h1_title": false,
   "title_cell": "Table of Contents",
   "title_sidebar": "Contents",
   "toc_cell": false,
   "toc_position": {},
   "toc_section_display": true,
   "toc_window_display": false
  },
  "varInspector": {
   "cols": {
    "lenName": 16,
    "lenType": 16,
    "lenVar": 40
   },
   "kernels_config": {
    "python": {
     "delete_cmd_postfix": "",
     "delete_cmd_prefix": "del ",
     "library": "var_list.py",
     "varRefreshCmd": "print(var_dic_list())"
    },
    "r": {
     "delete_cmd_postfix": ") ",
     "delete_cmd_prefix": "rm(",
     "library": "var_list.r",
     "varRefreshCmd": "cat(var_dic_list()) "
    }
   },
   "types_to_exclude": [
    "module",
    "function",
    "builtin_function_or_method",
    "instance",
    "_Feature"
   ],
   "window_display": false
  }
 },
 "nbformat": 4,
 "nbformat_minor": 4
}
